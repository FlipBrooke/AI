{
 "cells": [
  {
   "cell_type": "code",
   "execution_count": 1,
   "id": "b9db8498",
   "metadata": {},
   "outputs": [],
   "source": [
    "import random\n",
    "from IPython.display import clear_output"
   ]
  },
  {
   "cell_type": "code",
   "execution_count": 2,
   "id": "26c34ad9",
   "metadata": {},
   "outputs": [
    {
     "name": "stdout",
     "output_type": "stream",
     "text": [
      "100.0%\n",
      "28.933\n"
     ]
    }
   ],
   "source": [
    "iderations = 1000\n",
    "\n",
    "# How many iderations it takes for the next progress bar to be outputted\n",
    "progress_time = 100\n",
    "\n",
    "generated_numbers = set()\n",
    "timesRan = 0\n",
    "averageAmount = 0\n",
    "trials = 0\n",
    "\n",
    "\n",
    "while trials < iderations:\n",
    "    generated_numbers = set()\n",
    "    timesRan = 0\n",
    "    while len(generated_numbers) < 10:\n",
    "        num = random.randint(1, 10)\n",
    "        generated_numbers.add(num)\n",
    "        timesRan += 1\n",
    "    averageAmount += timesRan\n",
    "    trials += 1\n",
    "    if trials % progress_time == 0:\n",
    "        clear_output(wait=True)\n",
    "        print(str(round(trials / iderations * 100, 2)) + \"%\")\n",
    "averageAmount /= iderations\n",
    "print(averageAmount)"
   ]
  },
  {
   "cell_type": "markdown",
   "id": "6a5b966f",
   "metadata": {},
   "source": [
    "The average amount of McDonalds meals to get all teenie beanie babies is 29.285"
   ]
  },
  {
   "cell_type": "code",
   "execution_count": 3,
   "id": "300c079b",
   "metadata": {},
   "outputs": [
    {
     "name": "stdout",
     "output_type": "stream",
     "text": [
      "Dodgers Win Chance\n",
      "53.2%\n",
      "Yankees Win Chance\n",
      "46.800000000000004%\n"
     ]
    }
   ],
   "source": [
    "import random\n",
    "from IPython.display import clear_output\n",
    "\n",
    "iderations = 1000\n",
    "progress_time = 100  # Adjusted for more frequent updates\n",
    "\n",
    "dodgers_total = 0\n",
    "yankees_total = 0\n",
    "\n",
    "for trials in range(iderations):\n",
    "    dodgers_wins = 0\n",
    "    yankees_wins = 0\n",
    "    timesRan = 0\n",
    "    \n",
    "    while dodgers_wins < 4 and yankees_wins < 4:\n",
    "        if timesRan < 3 or timesRan > 6:\n",
    "            if random.randint(1, 20) > 11:\n",
    "                dodgers_wins += 1\n",
    "            else:\n",
    "                yankees_wins += 1\n",
    "        else:\n",
    "            if random.randint(1, 20) > 11:\n",
    "                yankees_wins += 1\n",
    "            else:\n",
    "                dodgers_wins += 1\n",
    "        timesRan += 1  # Increment within the loop\n",
    "\n",
    "    # Count which team won the series\n",
    "    if dodgers_wins > yankees_wins:\n",
    "        dodgers_total += 1\n",
    "    else:\n",
    "        yankees_total += 1\n",
    "\n",
    "    # Progress indicator\n",
    "    if trials % progress_time == 0:\n",
    "        clear_output(wait=True)\n",
    "        print(f\"{round(trials / iderations * 100, 2)}% Finished. On trial {trials} out of {iderations}\")\n",
    "\n",
    "# Output final probabilities\n",
    "clear_output(wait=True)\n",
    "print(\"Dodgers Win Chance\")\n",
    "print(f\"{(dodgers_total / iderations) * 100}%\")\n",
    "\n",
    "print(\"Yankees Win Chance\")\n",
    "print(f\"{(yankees_total / iderations) * 100}%\")\n"
   ]
  },
  {
   "cell_type": "markdown",
   "id": "8676e06a",
   "metadata": {},
   "source": [
    "The Dodgers have a 61% chance to win, and the Yankees have a 39% chance to win based solely on home field advantage"
   ]
  },
  {
   "cell_type": "markdown",
   "id": "730acd1c",
   "metadata": {},
   "source": [
    "If 1/6 chips are spicy, there's a 1/6 chance the first chip is hot"
   ]
  },
  {
   "cell_type": "code",
   "execution_count": 4,
   "id": "a05bcf69",
   "metadata": {},
   "outputs": [
    {
     "name": "stdout",
     "output_type": "stream",
     "text": [
      "0.1573357\n"
     ]
    }
   ],
   "source": [
    "import random\n",
    "from IPython.display import clear_output\n",
    "\n",
    "iderations = 10000000\n",
    "progress_time = 10000\n",
    "\n",
    "trials = 0\n",
    "firstChipHot = 0\n",
    "\n",
    "hotChipOdds = 1/6\n",
    "ChipsInBag = 108\n",
    "\n",
    "while trials < iderations:\n",
    "    # Initialize hot chips per trial\n",
    "    hotLeft = int(round(ChipsInBag * hotChipOdds))  # Convert to integer for comparison\n",
    "\n",
    "    # Check if first chip is hot\n",
    "    if hotLeft > random.randint(1, ChipsInBag):\n",
    "        firstChipHot += 1\n",
    "\n",
    "    # Progress indicator\n",
    "    if trials % progress_time == 0:\n",
    "        clear_output(wait=True)\n",
    "        print(f\"{round(trials / iderations * 100, 2)}% Finished. On trial {trials} out of {iderations}\")\n",
    "\n",
    "    trials += 1\n",
    "\n",
    "clear_output(wait=True)\n",
    "print(firstChipHot / iderations)\n"
   ]
  },
  {
   "cell_type": "code",
   "execution_count": 5,
   "id": "c256002d",
   "metadata": {},
   "outputs": [
    {
     "name": "stdout",
     "output_type": "stream",
     "text": [
      "Probability of shared birthday: 0.51\n"
     ]
    }
   ],
   "source": [
    "import random\n",
    "from IPython.display import clear_output\n",
    "\n",
    "# Settings\n",
    "iterations = 1000\n",
    "progress_time = 10000\n",
    "people_count = 23\n",
    "\n",
    "# Counters\n",
    "trials = 0\n",
    "shared_birthday_count = 0\n",
    "\n",
    "while trials < iterations:\n",
    "    birthdays = set()\n",
    "    has_shared_birthday = False\n",
    "    \n",
    "    for _ in range(people_count):\n",
    "        birthday = random.randint(1, 365)\n",
    "        if birthday in birthdays:\n",
    "            has_shared_birthday = True\n",
    "            break\n",
    "        birthdays.add(birthday)\n",
    "\n",
    "    if has_shared_birthday:\n",
    "        shared_birthday_count += 1\n",
    "\n",
    "    if trials % progress_time == 0:\n",
    "        clear_output(wait=True)\n",
    "        print(f\"{round(trials / iterations * 100, 2)}% Finished. On trial {trials} out of {iterations}\")\n",
    "\n",
    "    trials += 1\n",
    "\n",
    "clear_output(wait=True)\n",
    "print(\"Probability of shared birthday:\", shared_birthday_count / iterations)\n"
   ]
  },
  {
   "cell_type": "code",
   "execution_count": 6,
   "id": "81bec311",
   "metadata": {},
   "outputs": [
    {
     "name": "stdout",
     "output_type": "stream",
     "text": [
      "Blood Type Distribution:\n",
      "O+: 39.0%\n",
      "O-: 6.800000000000001%\n",
      "A+: 24.0%\n",
      "A-: 3.5000000000000004%\n",
      "B+: 17.299999999999997%\n",
      "B-: 4.8%\n",
      "AB+: 3.6999999999999997%\n",
      "AB-: 0.8999999999999999%\n"
     ]
    }
   ],
   "source": [
    "import random\n",
    "from IPython.display import clear_output\n",
    "\n",
    "iterations = 1000\n",
    "progress_time = 100\n",
    "\n",
    "blood_groups = [\"O\", \"A\", \"B\", \"AB\"]\n",
    "group_probabilities = [0.45, 0.28, 0.22, 0.05]\n",
    "rh_factor_probabilities = [0.85, 0.15]\n",
    "rh_factors = [\"+\", \"-\"] \n",
    "\n",
    "blood_type_counts = {f\"{bg}{rh}\": 0 for bg in blood_groups for rh in rh_factors}\n",
    "\n",
    "for trial in range(iterations):\n",
    "    group_rand = random.random()\n",
    "    cumulative = 0\n",
    "    for group, prob in zip(blood_groups, group_probabilities):\n",
    "        cumulative += prob\n",
    "        if group_rand < cumulative:\n",
    "            blood_group = group\n",
    "            break\n",
    "\n",
    "    rh_rand = random.random()\n",
    "    rh_factor = rh_factors[0] if rh_rand < rh_factor_probabilities[0] else rh_factors[1]\n",
    "\n",
    "    blood_type = f\"{blood_group}{rh_factor}\"\n",
    "    blood_type_counts[blood_type] += 1\n",
    "\n",
    "    if trial % progress_time == 0:\n",
    "        clear_output(wait=True)\n",
    "        print(f\"{round(trial / iterations * 100, 2)}% Finished. On trial {trial} out of {iterations}\")\n",
    "\n",
    "clear_output(wait=True)\n",
    "print(\"Blood Type Distribution:\")\n",
    "for bt, count in blood_type_counts.items():\n",
    "    print(f\"{bt}: {(count / iterations) * 100}%\")\n"
   ]
  },
  {
   "cell_type": "code",
   "execution_count": null,
   "id": "716ec8f5",
   "metadata": {},
   "outputs": [],
   "source": []
  }
 ],
 "metadata": {
  "kernelspec": {
   "display_name": "Python 3 (ipykernel)",
   "language": "python",
   "name": "python3"
  },
  "language_info": {
   "codemirror_mode": {
    "name": "ipython",
    "version": 3
   },
   "file_extension": ".py",
   "mimetype": "text/x-python",
   "name": "python",
   "nbconvert_exporter": "python",
   "pygments_lexer": "ipython3",
   "version": "3.9.13"
  }
 },
 "nbformat": 4,
 "nbformat_minor": 5
}
