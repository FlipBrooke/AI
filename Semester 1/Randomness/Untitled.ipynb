{
 "cells": [
  {
   "cell_type": "code",
   "execution_count": 1,
   "id": "b9db8498",
   "metadata": {},
   "outputs": [],
   "source": [
    "import random\n",
    "from IPython.display import clear_output"
   ]
  },
  {
   "cell_type": "code",
   "execution_count": 6,
   "id": "26c34ad9",
   "metadata": {},
   "outputs": [
    {
     "name": "stdout",
     "output_type": "stream",
     "text": [
      "100.0%\n",
      "29.2335\n"
     ]
    }
   ],
   "source": [
    "iderations = 10000\n",
    "\n",
    "# How many iderations it takes for the next progress bar to be outputted\n",
    "progress_time = 100\n",
    "\n",
    "generated_numbers = set()\n",
    "timesRan = 0\n",
    "averageAmount = 0\n",
    "trials = 0\n",
    "\n",
    "\n",
    "while trials < iderations:\n",
    "    generated_numbers = set()\n",
    "    timesRan = 0\n",
    "    while len(generated_numbers) < 10:\n",
    "        num = random.randint(1, 10)\n",
    "        generated_numbers.add(num)\n",
    "        timesRan += 1\n",
    "    averageAmount += timesRan\n",
    "    trials += 1\n",
    "    if trials % progress_time == 0:\n",
    "        clear_output(wait=True)\n",
    "        print(str(round(trials / iderations * 100, 2)) + \"%\")\n",
    "averageAmount /= iderations\n",
    "print(averageAmount)"
   ]
  },
  {
   "cell_type": "markdown",
   "id": "6a5b966f",
   "metadata": {},
   "source": [
    "The average amount of McDonalds meals to get all teenie beanie babies is 29.285"
   ]
  },
  {
   "cell_type": "code",
   "execution_count": 7,
   "id": "300c079b",
   "metadata": {},
   "outputs": [
    {
     "name": "stdout",
     "output_type": "stream",
     "text": [
      "Dodgers Win Chance\n",
      "51.6%\n",
      "Yankees Win Chance\n",
      "48.4%\n"
     ]
    }
   ],
   "source": [
    "import random\n",
    "from IPython.display import clear_output\n",
    "\n",
    "iderations = 1000\n",
    "progress_time = 100  # Adjusted for more frequent updates\n",
    "\n",
    "dodgers_total = 0\n",
    "yankees_total = 0\n",
    "\n",
    "for trials in range(iderations):\n",
    "    dodgers_wins = 0\n",
    "    yankees_wins = 0\n",
    "    timesRan = 0\n",
    "    \n",
    "    while dodgers_wins < 4 and yankees_wins < 4:\n",
    "        if timesRan < 3 or timesRan > 6:\n",
    "            if random.randint(1, 20) > 11:\n",
    "                dodgers_wins += 1\n",
    "            else:\n",
    "                yankees_wins += 1\n",
    "        else:\n",
    "            if random.randint(1, 20) > 11:\n",
    "                yankees_wins += 1\n",
    "            else:\n",
    "                dodgers_wins += 1\n",
    "        timesRan += 1  # Increment within the loop\n",
    "\n",
    "    # Count which team won the series\n",
    "    if dodgers_wins > yankees_wins:\n",
    "        dodgers_total += 1\n",
    "    else:\n",
    "        yankees_total += 1\n",
    "\n",
    "    # Progress indicator\n",
    "    if trials % progress_time == 0:\n",
    "        clear_output(wait=True)\n",
    "        print(f\"{round(trials / iderations * 100, 2)}% Finished. On trial {trials} out of {iderations}\")\n",
    "\n",
    "# Output final probabilities\n",
    "clear_output(wait=True)\n",
    "print(\"Dodgers Win Chance\")\n",
    "print(f\"{(dodgers_total / iderations) * 100}%\")\n",
    "\n",
    "print(\"Yankees Win Chance\")\n",
    "print(f\"{(yankees_total / iderations) * 100}%\")\n"
   ]
  },
  {
   "cell_type": "markdown",
   "id": "8676e06a",
   "metadata": {},
   "source": [
    "The Dodgers have a 61% chance to win, and the Yankees have a 39% chance to win based solely on home field advantage"
   ]
  },
  {
   "cell_type": "markdown",
   "id": "730acd1c",
   "metadata": {},
   "source": [
    "If 1/6 chips are spicy, there's a 1/6 chance the first chip is hot"
   ]
  },
  {
   "cell_type": "code",
   "execution_count": 4,
   "id": "a05bcf69",
   "metadata": {},
   "outputs": [
    {
     "name": "stdout",
     "output_type": "stream",
     "text": [
      "0.1574326\n"
     ]
    }
   ],
   "source": [
    "import random\n",
    "from IPython.display import clear_output\n",
    "\n",
    "iderations = 10000000\n",
    "progress_time = 10000\n",
    "\n",
    "trials = 0\n",
    "firstChipHot = 0\n",
    "\n",
    "hotChipOdds = 1/6\n",
    "ChipsInBag = 108\n",
    "\n",
    "while trials < iderations:\n",
    "    # Initialize hot chips per trial\n",
    "    hotLeft = int(round(ChipsInBag * hotChipOdds))  # Convert to integer for comparison\n",
    "\n",
    "    # Check if first chip is hot\n",
    "    if hotLeft > random.randint(1, ChipsInBag):\n",
    "        firstChipHot += 1\n",
    "\n",
    "    # Progress indicator\n",
    "    if trials % progress_time == 0:\n",
    "        clear_output(wait=True)\n",
    "        print(f\"{round(trials / iderations * 100, 2)}% Finished. On trial {trials} out of {iderations}\")\n",
    "\n",
    "    trials += 1\n",
    "\n",
    "clear_output(wait=True)\n",
    "print(firstChipHot / iderations)\n"
   ]
  },
  {
   "cell_type": "code",
   "execution_count": 8,
   "id": "c256002d",
   "metadata": {},
   "outputs": [
    {
     "name": "stdout",
     "output_type": "stream",
     "text": [
      "Probability of shared birthday: 0.5077044\n"
     ]
    }
   ],
   "source": [
    "import random\n",
    "from IPython.display import clear_output\n",
    "\n",
    "# Settings\n",
    "iterations = 10000000\n",
    "progress_time = 10000\n",
    "people_count = 23\n",
    "\n",
    "# Counters\n",
    "trials = 0\n",
    "shared_birthday_count = 0\n",
    "\n",
    "while trials < iterations:\n",
    "    birthdays = set()\n",
    "    has_shared_birthday = False\n",
    "    \n",
    "    for _ in range(people_count):\n",
    "        birthday = random.randint(1, 365)\n",
    "        if birthday in birthdays:\n",
    "            has_shared_birthday = True\n",
    "            break\n",
    "        birthdays.add(birthday)\n",
    "\n",
    "    if has_shared_birthday:\n",
    "        shared_birthday_count += 1\n",
    "\n",
    "    if trials % progress_time == 0:\n",
    "        clear_output(wait=True)\n",
    "        print(f\"{round(trials / iterations * 100, 2)}% Finished. On trial {trials} out of {iterations}\")\n",
    "\n",
    "    trials += 1\n",
   
