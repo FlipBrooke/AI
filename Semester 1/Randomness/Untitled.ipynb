{
 "cells": [
  // Other cells remain unchanged...
  {
   "cell_type": "code",
   "execution_count": 6,
   "id": "26c34ad9",
   "metadata": {},
   "outputs": [
    {
     "name": "stdout",
     "output_type": "stream",
     "text": [
      "100.0%\n",
      "28.933\n"
     ]
    }
   ],
   "source": [
    "iderations = 10000\n",
    "progress_time = 100\n",
    "generated_numbers = set()\n",
    "timesRan = 0\n",
    "averageAmount = 0\n",
    "trials = 0\n",
    "while trials < iderations:\n",
    "    generated_numbers = set()\n",
    "    timesRan = 0\n",
    "    while len(generated_numbers) < 10:\n",
    "        num = random.randint(1, 10)\n",
    "        generated_numbers.add(num)\n",
    "        timesRan += 1\n",
    "    averageAmount += timesRan\n",
    "    trials += 1\n",
    "    if trials % progress_time == 0:\n",
    "        clear_output(wait=True)\n",
    "        print(str(round(trials / iderations * 100, 2)) + \"%\")\n",
    "averageAmount /= iderations\n",
    "print(averageAmount)"
   ]
  },
  {
   "cell_type": "code",
   "execution_count": null,
   "id": "c256002d",
   "metadata": {},
   "outputs": [],
   "source": [
    "clear_output(wait=True)\n",
    "print(\"Probability of shared birthday:\", shared_birthday_count / iterations)"
   ]
  }
 ]
}
