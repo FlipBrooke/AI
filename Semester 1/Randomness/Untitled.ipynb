{
 "cells": [
  {
   "cell_type": "code",
   "execution_count": 1,
   "id": "b9db8498",
   "metadata": {},
   "outputs": [],
   "source": [
    "import random\n",
    "from IPython.display import clear_output"
   ]
  },
  {
   "cell_type": "code",
   "execution_count": 6,
   "id": "26c34ad9",
   "metadata": {},
   "outputs": [
    {
     "name": "stdout",
     "output_type": "stream",
     "text": [
      "100.0%\n",
      "29.2335\n"
     ]
    }
   ],
   "source": [
    "iderations = 10000\n",
    "\n",
    "# How many iderations it takes for the next progress bar to be outputted\n",
    "progress_time = 100\n",
    "\n",
    "generated_numbers = set()\n",
    "timesRan = 0\n",
    "averageAmount = 0\n",
    "trials = 0\n",
    "\n",
    "\n",
    "while trials < iderations:\n",
    "    generated_numbers = set()\n",
    "    timesRan = 0\n",
    "    while len(generated_numbers) < 10:\n",
    "        num = random.randint(1, 10)\n",
    "        generated_numbers.add(num)\n",
    "        timesRan += 1\n",
    "    averageAmount += timesRan\n",
    "    trials += 1\n",
    "    if trials % progress_time == 0:\n",
    "        clear_output(wait=True)\n",
    "        print(str(round(trials / iderations * 100, 2)) + \"%\")\n",
    "averageAmount /= iderations\n",
    "print(averageAmount)"
   ]
  },
  {
   "cell_type": "markdown",
   "id": "6a5b966f",
   "metadata": {},
   "source": [
    "The average amount of McDonalds meals to get all teenie beanie babies is 29.285"
   ]
  },
  {
   "cell_type": "code",
   "execution_count": null,
   "id": "300c079b",
   "metadata": {},
   "outputs": [],
   "source": [
    "iderations = 1000000\n",
    "\n",
    "# How many iderations it takes for the next progress bar to be outputted\n",
    "progress_time = 1000\n",
    "\n",
    "generated_numbers = set()\n",
    "timesRan = 0\n",
    "averageAmount = 0\n",
    "dodgers_wins = 0\n",
    "yankees_wins = 0\n",
    "dodgers_total = 0\n",
    "yankees_total = 0\n",
    "trials = 0\n",
    "\n",
    "while trials < iderations:\n",
    "    timesRan = 0\n",
    "    dodgers_wins = 0\n",
    "    yankees_wins = 0\n",
    "    while dodgers_wins < 4 and yankees_wins < 4:\n",
    "        if timesRan < 3 or timesRan > 6:\n",
    "            if random.randint(1, 20) > 11:\n",
    "                dodgers_wins += 1\n",
    "            else:\n",
    "                yankees_wins += 1\n",
    "        else:\n",
    "            if random.randint(1, 20) > 11:\n",
    "                yankees_wins += 1\n",
    "            else:\n",
    "                dodgers_wins += 1\n",
    "    if dodgers_wins < yankees_wins:\n",
    "        dodgers_total += 1\n",
    "    else:\n",
    "        yankees_total += 1\n",
    "    if trials % progress_time == 0:\n",
    "        clear_output(wait=True)\n",
    "        print(str(round(trials / iderations * 100, 2)) + \"% Finished. On trial \" + str(trials) + \" out of \" + str(iderations))\n",
    "    trials += 1\n",
    "clear_output(wait=True)\n",
    "\n",
    "print(\"Dodgers Win Chance\")\n",
    "print(str((dodgers_total/iderations)*100) + \"%\")\n",
    "\n",
    "print(\"Yankees Win Chance\")\n",
    "print(str((yankees_total/iderations)*100) + \"%\")"
   ]
  },
  {
   "cell_type": "markdown",
   "id": "8676e06a",
   "metadata": {},
   "source": [
    "The Dodgers have a 61% chance to win, and the Yankees have a 39% chance to win based solely on home field advantage"
   ]
  },
  {
   "cell_type": "code",
   "execution_count": null,
   "id": "254cec1b",
   "metadata": {},
   "outputs": [],
   "source": []
  }
 ],
 "metadata": {
  "kernelspec": {
   "display_name": "Python 3 (ipykernel)",
   "language": "python",
   "name": "python3"
  },
  "language_info": {
   "codemirror_mode": {
    "name": "ipython",
    "version": 3
   },
   "file_extension": ".py",
   "mimetype": "text/x-python",
   "name": "python",
   "nbconvert_exporter": "python",
   "pygments_lexer": "ipython3",
   "version": "3.12.4"
  }
 },
 "nbformat": 4,
 "nbformat_minor": 5
}
