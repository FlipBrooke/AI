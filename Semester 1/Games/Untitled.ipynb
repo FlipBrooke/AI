{
 "cells": [
  {
   "cell_type": "code",
   "execution_count": 8,
   "id": "15fa4003",
   "metadata": {},
   "outputs": [],
   "source": [
    "import pandas as pd\n",
    "import seaborn as sns\n",
    "import matplotlib.pyplot as plt"
   ]
  },
  {
   "cell_type": "code",
   "execution_count": 9,
   "id": "102157ec",
   "metadata": {},
   "outputs": [
    {
     "data": {
      "text/plain": [
       "Index(['ID', 'name', 'release_date', 'estimated_owners', 'peak_ccu',\n",
       "       'required_age', 'price', 'dlc_count', 'main_description',\n",
       "       'supported_languages', 'full_audio_languages', 'reviews',\n",
       "       'header_image', 'website', 'support_url', 'support_email', 'windows',\n",
       "       'mac', 'linux', 'metacritic_score', 'metacriticURL', 'user_score',\n",
       "       'positive', 'negative', 'score_rank', 'achievements', 'recommendations',\n",
       "       'notes', 'average_playtime_forever', 'average_playtime_2weeks',\n",
       "       'median_playtime_forever', 'packages', 'developers', 'publishers',\n",
       "       'categories', 'genres', 'tags', 'screenshots'],\n",
       "      dtype='object')"
      ]
     },
     "execution_count": 9,
     "metadata": {},
     "output_type": "execute_result"
    }
   ],
   "source": [
    "df = pd.read_json('games.json')\n",
    "df.columns"
   ]
  },
  {
   "cell_type": "code",
   "execution_count": null,
   "id": "707fa242",
   "metadata": {},
   "outputs": [],
   "source": []
  },
  {
   "cell_type": "code",
   "execution_count": null,
   "id": "f8f583cf",
   "metadata": {},
   "outputs": [],
   "source": []
  }
 ],
 "metadata": {
  "kernelspec": {
   "display_name": "Python 3 (ipykernel)",
   "language": "python",
   "name": "python3"
  },
  "language_info": {
   "codemirror_mode": {
    "name": "ipython",
    "version": 3
   },
   "file_extension": ".py",
   "mimetype": "text/x-python",
   "name": "python",
   "nbconvert_exporter": "python",
   "pygments_lexer": "ipython3",
   "version": "3.9.13"
  }
 },
 "nbformat": 4,
 "nbformat_minor": 5
}
