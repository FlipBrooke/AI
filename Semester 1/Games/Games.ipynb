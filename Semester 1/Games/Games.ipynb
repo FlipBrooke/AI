{
 "cells": [
  {
   "cell_type": "code",
   "execution_count": 13,
   "id": "8965fc92",
   "metadata": {},
   "outputs": [],
   "source": [
    "import pandas as pd\n",
    "import seaborn as sns\n",
    "import matplotlib.pyplot as plt"
   ]
  },
  {
   "cell_type": "code",
   "execution_count": 14,
   "id": "506e445d",
   "metadata": {},
   "outputs": [],
   "source": [
    "df = pd.read_json('games.json')"
   ]
  },
  {
   "cell_type": "code",
   "execution_count": 15,
   "id": "85f78125",
   "metadata": {},
   "outputs": [
    {
     "data": {
      "text/plain": [
       "['ID',\n",
       " 'name',\n",
       " 'release_date',\n",
       " 'estimated_owners',\n",
       " 'peak_ccu',\n",
       " 'required_age',\n",
       " 'price',\n",
       " 'dlc_count',\n",
       " 'main_description',\n",
       " 'supported_languages',\n",
       " 'full_audio_languages',\n",
       " 'reviews',\n",
       " 'header_image',\n",
       " 'website',\n",
       " 'support_url',\n",
       " 'support_email',\n",
       " 'windows',\n",
       " 'mac',\n",
       " 'linux',\n",
       " 'metacritic_score',\n",
       " 'metacriticURL',\n",
       " 'user_score',\n",
       " 'positive',\n",
       " 'negative',\n",
       " 'score_rank',\n",
       " 'achievements',\n",
       " 'recommendations',\n",
       " 'notes',\n",
       " 'average_playtime_forever',\n",
       " 'average_playtime_2weeks',\n",
       " 'median_playtime_forever',\n",
       " 'packages',\n",
       " 'developers',\n",
       " 'publishers',\n",
       " 'categories',\n",
       " 'genres',\n",
       " 'tags',\n",
       " 'screenshots']"
      ]
     },
     "execution_count": 15,
     "metadata": {},
     "output_type": "execute_result"
    }
   ],
   "source": [
    "list(df.columns)"
   ]
  },
  {
   "cell_type": "code",
   "execution_count": 17,
   "id": "54780ffa",
   "metadata": {},
   "outputs": [
    {
     "data": {
      "text/html": [
       "<div>\n",
       "<style scoped>\n",
       "    .dataframe tbody tr th:only-of-type {\n",
       "        vertical-align: middle;\n",
       "    }\n",
       "\n",
       "    .dataframe tbody tr th {\n",
       "        vertical-align: top;\n",
       "    }\n",
       "\n",
       "    .dataframe thead th {\n",
       "        text-align: right;\n",
       "    }\n",
       "</style>\n",
       "<table border=\"1\" class=\"dataframe\">\n",
       "  <thead>\n",
       "    <tr style=\"text-align: right;\">\n",
       "      <th></th>\n",
       "      <th>ID</th>\n",
       "      <th>name</th>\n",
       "      <th>release_date</th>\n",
       "      <th>estimated_owners</th>\n",
       "      <th>peak_ccu</th>\n",
       "      <th>required_age</th>\n",
       "      <th>price</th>\n",
       "      <th>dlc_count</th>\n",
       "      <th>main_description</th>\n",
       "      <th>supported_languages</th>\n",
       "      <th>...</th>\n",
       "      <th>average_playtime_forever</th>\n",
       "      <th>average_playtime_2weeks</th>\n",
       "      <th>median_playtime_forever</th>\n",
       "      <th>packages</th>\n",
       "      <th>developers</th>\n",
       "      <th>publishers</th>\n",
       "      <th>categories</th>\n",
       "      <th>genres</th>\n",
       "      <th>tags</th>\n",
       "      <th>screenshots</th>\n",
       "    </tr>\n",
       "  </thead>\n",
       "  <tbody>\n",
       "    <tr>\n",
       "      <th>1025</th>\n",
       "      <td>22380</td>\n",
       "      <td>Fallout: New Vegas</td>\n",
       "      <td>Oct 19, 2010</td>\n",
       "      <td>2000000 - 5000000</td>\n",
       "      <td>5776</td>\n",
       "      <td>16</td>\n",
       "      <td>9.99</td>\n",
       "      <td>0</td>\n",
       "      <td>Welcome to Vegas. New Vegas. It’s the kind of ...</td>\n",
       "      <td>['English', 'French', 'German', 'Italian', 'Sp...</td>\n",
       "      <td>...</td>\n",
       "      <td>3044</td>\n",
       "      <td>112</td>\n",
       "      <td>976</td>\n",
       "      <td>153</td>\n",
       "      <td>Obsidian Entertainment</td>\n",
       "      <td>Bethesda Softworks</td>\n",
       "      <td>Single-player,Steam Achievements,Partial Contr...</td>\n",
       "      <td>Action,RPG</td>\n",
       "      <td>Open World,RPG,Post-apocalyptic,Singleplayer,M...</td>\n",
       "      <td>https://cdn.akamai.steamstatic.com/steam/apps/...</td>\n",
       "    </tr>\n",
       "  </tbody>\n",
       "</table>\n",
       "<p>1 rows × 38 columns</p>\n",
       "</div>"
      ],
      "text/plain": [
       "         ID                name  release_date   estimated_owners  peak_ccu  \\\n",
       "1025  22380  Fallout: New Vegas  Oct 19, 2010  2000000 - 5000000      5776   \n",
       "\n",
       "      required_age  price  dlc_count  \\\n",
       "1025            16   9.99          0   \n",
       "\n",
       "                                       main_description  \\\n",
       "1025  Welcome to Vegas. New Vegas. It’s the kind of ...   \n",
       "\n",
       "                                    supported_languages  ...  \\\n",
       "1025  ['English', 'French', 'German', 'Italian', 'Sp...  ...   \n",
       "\n",
       "     average_playtime_forever average_playtime_2weeks median_playtime_forever  \\\n",
       "1025                     3044                     112                     976   \n",
       "\n",
       "     packages              developers          publishers  \\\n",
       "1025      153  Obsidian Entertainment  Bethesda Softworks   \n",
       "\n",
       "                                             categories      genres  \\\n",
       "1025  Single-player,Steam Achievements,Partial Contr...  Action,RPG   \n",
       "\n",
       "                                                   tags  \\\n",
       "1025  Open World,RPG,Post-apocalyptic,Singleplayer,M...   \n",
       "\n",
       "                                            screenshots  \n",
       "1025  https://cdn.akamai.steamstatic.com/steam/apps/...  \n",
       "\n",
       "[1 rows x 38 columns]"
      ]
     },
     "execution_count": 17,
     "metadata": {},
     "output_type": "execute_result"
    }
   ],
   "source": [
    "df[df['ID'] == 22380]"
   ]
  },
  {
   "cell_type": "code",
   "execution_count": 28,
   "id": "f7fa013b",
   "metadata": {},
   "outputs": [
    {
     "data": {
      "text/plain": [
       "35"
      ]
     },
     "execution_count": 28,
     "metadata": {},
     "output_type": "execute_result"
    }
   ],
   "source": [
    "len(df[df['name'].str.contains(\"Call of Duty\", na=False)])"
   ]
  },
  {
   "cell_type": "code",
   "execution_count": null,
   "id": "16aa52ef",
   "metadata": {},
   "outputs": [],
   "source": []
  },
  {
   "cell_type": "code",
   "execution_count": null,
   "id": "f8db3cc7",
   "metadata": {},
   "outputs": [],
   "source": []
  }
 ],
 "metadata": {
  "kernelspec": {
   "display_name": "Python 3 (ipykernel)",
   "language": "python",
   "name": "python3"
  },
  "language_info": {
   "codemirror_mode": {
    "name": "ipython",
    "version": 3
   },
   "file_extension": ".py",
   "mimetype": "text/x-python",
   "name": "python",
   "nbconvert_exporter": "python",
   "pygments_lexer": "ipython3",
   "version": "3.9.13"
  }
 },
 "nbformat": 4,
 "nbformat_minor": 5
}
