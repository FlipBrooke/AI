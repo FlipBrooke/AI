{
 "cells": [
  {
   "cell_type": "code",
   "execution_count": 101,
   "id": "1f4e3662",
   "metadata": {},
   "outputs": [],
   "source": [
    "import pandas as pd"
   ]
  },
  {
   "cell_type": "code",
   "execution_count": 102,
   "id": "b0eaef27",
   "metadata": {},
   "outputs": [],
   "source": [
    "df = pd.read_csv('cats.csv')\n",
    "df.drop(['Unnamed: 0'], inplace=True, axis=1)"
   ]
  },
  {
   "cell_type": "code",
   "execution_count": 103,
   "id": "8cceb1df",
   "metadata": {},
   "outputs": [
    {
     "name": "stdout",
     "output_type": "stream",
     "text": [
      "['Breed', 'Age (Years)', 'Weight (kg)', 'Color', 'Gender', 'ID']\n"
     ]
    }
   ],
   "source": [
    "print(list(df.columns))"
   ]
  },
  {
   "cell_type": "code",
   "execution_count": 104,
   "id": "c986f139",
   "metadata": {},
   "outputs": [
    {
     "name": "stdout",
     "output_type": "stream",
     "text": [
      "['Maine Coon', 9, 5, 'Blue', 'Female', 590]\n"
     ]
    }
   ],
   "source": [
    "print(list(df.iloc[98]))"
   ]
  },
  {
   "cell_type": "code",
   "execution_count": 105,
   "id": "df52684f",
   "metadata": {},
   "outputs": [
    {
     "name": "stdout",
     "output_type": "stream",
     "text": [
      "['Orange Tabby', '3', '5', 'Orange', 'Male', '201']\n"
     ]
    }
   ],
   "source": [
    "df.loc[999] = {'Breed':'Orange Tabby','Age (Years)':'3','Weight (kg)':'5','Color':'Orange','Gender':'Male','ID':'201'}\n",
    "print(list(df.iloc[999]))"
   ]
  },
  {
   "cell_type": "code",
   "execution_count": 106,
   "id": "11849085",
   "metadata": {
    "scrolled": false
   },
   "outputs": [],
   "source": [
    "df['Weight (lbs)'] = pd.to_numeric (df['Weight (kg)']) * 2.20462"
   ]
  },
  {
   "cell_type": "code",
   "execution_count": null,
   "id": "13bed020",
   "metadata": {
    "scrolled": true
   },
   "outputs": [],
   "source": []
  },
  {
   "cell_type": "code",
   "execution_count": null,
   "id": "d32f327e",
   "metadata": {},
   "outputs": [],
   "source": []
  },
  {
   "cell_type": "code",
   "execution_count": null,
   "id": "8fea459f",
   "metadata": {},
   "outputs": [],
   "source": []
  }
 ],
 "metadata": {
  "kernelspec": {
   "display_name": "Python 3 (ipykernel)",
   "language": "python",
   "name": "python3"
  },
  "language_info": {
   "codemirror_mode": {
    "name": "ipython",
    "version": 3
   },
   "file_extension": ".py",
   "mimetype": "text/x-python",
   "name": "python",
   "nbconvert_exporter": "python",
   "pygments_lexer": "ipython3",
   "version": "3.9.13"
  }
 },
 "nbformat": 4,
 "nbformat_minor": 5
}
