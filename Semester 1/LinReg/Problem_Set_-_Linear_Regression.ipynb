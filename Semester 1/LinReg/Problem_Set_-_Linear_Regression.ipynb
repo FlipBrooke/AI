{
 "cells": [
  {
   "cell_type": "markdown",
   "id": "a72952dc",
   "metadata": {},
   "source": [
    "# Linear Regression\n",
    "The Whopper has been Burger King’s signature sandwich since 1957. One Double Whopper with cheese provides 53 grams of protein! That's all the protein you need in a day. It also supplies 1020 calories and 65 grams of fat 😲😲😲. FYI - the Daily Value (based on a 2000-calorie diet) for fat is 65 grams. So after a Double Whopper you’ll want the rest of your calories that day to be fat-free. Of course, the Whopper isn’t the only item Burger King sells. How are fat and protein related on the entire BK menu? The scatterplot of the Fat (in grams) versus the Protein (in grams) for foods sold at Burger King shows a positive, moderately strong, linear relationship.\n",
    "![Scatterplot of BK](https://raw.githubusercontent.com/SSpindt/AI/refs/heads/main/Semester%201/Problem%20Set%20Images/BKScatter.png)\n",
    "If you want 25 grams of protein in your lunch, how much fat should you expect to consume at Burger King? The correlation between Fat and Protein is 0.83, a sign that the linear association seen in the scatterplot is fairly strong. But strength of the relationship is only part of the picture. The correlation says, “The linear association between these two variables is fairly strong,” but it doesn’t tell us what the line actually is.\n",
    "Now we can say more; the equation will let us predict the fat content for any Burger King food, given its amount of protein. \n",
    "\n",
    "For the Burger King foods, we’d choose a linear model to describe the relationship between Protein and Fat.\n",
    "Of course, no line can go through all the points, but a linear model can summarize the general pattern with only a couple of parameters. Like all models of the real world, the line will be wrong — wrong in the sense that it can’t match reality exactly. But it can help us understand how the variables are associated.\n",
    "Not only can’t we draw a line through all the points, the best line might not even hit any of the points. Then how can it be the “best” line? We want to find the line that somehow comes closer to all the points than any other line. Some of the points will be above the line and some below. For example, the line might suggest that a BK Broiler chicken sandwich with 30 grams of protein should have 36 grams of fat when, in fact, it actually has only 25 grams of fat. The BK Broiler chicken residual would be `actual - predicted = 25 - 36 = -11 g of fat`. The negative residual tells us that the actual fat content of the BK Broiler chicken is about 11 grams less than the model predicts for a typical Burger King menu item with 30 grams of protein. Our challenge now is how to find the right line.\n",
    "\n",
    "When we draw a line through a scatterplot, some residuals are positive and some negative. We can’t assess how well the line fits by adding up all the residuals—the positive and negative ones would just cancel each other out. We faced the same issue when we calculated a standard deviation to measure spread. And we deal with it the same way here: by squaring the residuals. Squaring makes them all positive. Now we can add them up. Squaring also emphasizes the large residuals. After all, points near the line are consistent with the model, but we’re more concerned about points far from the line. When we add all the squared residuals together, that sum indicates how well the line we drew fits the data — the smaller the sum, the better the fit. A different line will produce a different sum, maybe bigger, maybe smaller. The **line of best fit** is the line for which the sum of squared residuals is smallest! We call this line the **least squares line**. It can be described as `y = mx + b `or more generically as `y = b0 + b1x` (*b0 is the y intercept and b1 is the slope*).You can use the line of best fit to make predictions -- all you have to do is plug in your value for x and solve for y!"
   ]
  },
  {
   "cell_type": "markdown",
   "id": "92353521",
   "metadata": {},
   "source": [
    "## <span style=\"color:blue\">Your Turn</span>\n",
    "Please solve the following problems using Python, Markdown, and this [data set about movies](https://drive.google.com/file/d/1QmsmZSTI9VOesBH4yL_8LHTxV63Gz2hv/view?usp=drive_link). "
   ]
  },
  {
   "cell_type": "markdown",
   "id": "0b8fa30b",
   "metadata": {},
   "source": [
    "## <span style=\"color:blue\">Problem 1</span>\n",
    "First, examine the relationship between `budget` and `critics score`. Then, answer these questions:\n",
    "1. What kind of relationship is found between `budget` and `critics score`? How do you know?\n",
    "2. Define a function that returns the equation of the line of best fit for `budget` and `critics score`. What is that equation? *You can only use standard Python and Pandas in your function. You cannot use Numpy or any other Python library.*\n",
    "3. According to your line of best fit, what score would a movie receive if its budget was $10 million? How accurate is this prediction?"
   ]
  },
  {
   "cell_type": "code",
   "execution_count": 4,
   "id": "8486781f",
   "metadata": {},
   "outputs": [
    {
     "name": "stdout",
     "output_type": "stream",
     "text": [
      "critics score (percent)             float64\n",
      "budget (millions)                   float64\n",
      "length (minutes)                    float64\n",
      "curse words used (rate per hour)    float64\n",
      "dtype: object\n",
      "0.9697766428756551\n"
     ]
    }
   ],
   "source": [
    "import pandas as pd\n",
    "import seaborn as sns\n",
    "import matplotlib.pyplot as plt\n",
    "df = pd.read_json('problem_set.json')\n",
    "print(df.dtypes)\n",
    "print(df['budget (millions)'].corr(df['critics score (percent)']))"
   ]
  },
  {
   "cell_type": "markdown",
   "id": "502b710d",
   "metadata": {},
   "source": [
    "The two variables have a strong relationship, as the corelation coeffecent 0.9697 is very close to 1, indicicating a strong positive relationship."
   ]
  },
  {
   "cell_type": "code",
   "execution_count": 18,
   "id": "2dc3eec0-7208-40f0-8f35-dd5af88ac67b",
   "metadata": {},
   "outputs": [
    {
     "data": {
      "text/plain": [
       "(0.46603264423232343, -1.3987314019555512)"
      ]
     },
     "execution_count": 18,
     "metadata": {},
     "output_type": "execute_result"
    }
   ],
   "source": [
    "def best_fit_equation(x_col, y_col):\n",
    "    x_mean = df[x_col].mean()\n",
    "    y_mean = df[y_col].mean()\n",
    "\n",
    "    m = ((df[x_col] * df[y_col]).mean() - x_mean * y_mean) / ((df[x_col]**2).mean() - x_mean**2)\n",
    "\n",
    "    b = y_mean - m * x_mean\n",
    "    \n",
    "    return m, b\n",
    "\n",
    "best_fit_equation('budget (millions)','critics score (percent)')"
   ]
  },
  {
   "cell_type": "markdown",
   "id": "ddb77d56",
   "metadata": {},
   "source": [
    "The equation for a line of best fit is \"y = 0.47x - 1.40\"."
   ]
  },
  {
   "cell_type": "code",
   "execution_count": 21,
   "id": "b0deb119",
   "metadata": {},
   "outputs": [
    {
     "data": {
      "text/plain": [
       "3.261595040367683"
      ]
     },
     "execution_count": 21,
     "metadata": {},
     "output_type": "execute_result"
    }
   ],
   "source": [
    "def critics_score(budget, x_col, y_col):\n",
    "    m, b = best_fit_equation(x_col, y_col)\n",
    "    return m * budget + b\n",
    "\n",
    "critics_score(10, 'budget (millions)', 'critics score (percent)')"
   ]
  },
  {
   "cell_type": "markdown",
   "id": "c9c69296",
   "metadata": {},
   "source": [
    "Acording to our best fit line a movie with a budget of 10m would get a score of 3.3%. This is inacurate, and is likely because the score to budget ratio is non-linear in reality."
   ]
  },
  {
   "cell_type": "markdown",
   "id": "0fe03ec5",
   "metadata": {},
   "source": [
    "## <span style=\"color:blue\">Problem 2</span>\n",
    "Now, examine the relationship between `length` and `critics score`. Then, answer these questions:\n",
    "1. What kind of relationship is found between `length` and `critics score`? How do you know?\n",
    "2. If you haven't done so already, please generalize your Linear Regression function so that it works on all kinds of quantitative data. Once you are done generalizing your function, call it using `length` and `critics score` as arguments. What is the equation of the best fit line? *Reminder, you can only use standard Python and Pandas in your function. You cannot use Numpy or any other Python library.*\n",
    "3. According to your line of best fit, what score would a movie receive if its length was 150 minutes? How accurate is this prediction?"
   ]
  },
  {
   "cell_type": "code",
   "execution_count": 24,
   "id": "afb80a6f",
   "metadata": {},
   "outputs": [
    {
     "name": "stdout",
     "output_type": "stream",
     "text": [
      "-0.7649508928065849\n"
     ]
    }
   ],
   "source": [
    "print(df['length (minutes)'].corr(df['critics score (percent)']))"
   ]
  },
  {
   "cell_type": "markdown",
   "id": "f187bf1e",
   "metadata": {},
   "source": [
    "There's a moderately strong negitive relationship, meaning longer movies often get lower scores. This is known because .-765 is close to -1."
   ]
  },
  {
   "cell_type": "code",
   "execution_count": 26,
   "id": "9556bf9b",
   "metadata": {},
   "outputs": [
    {
     "data": {
      "text/plain": [
       "(-0.6341943700384406, 132.6733124586916)"
      ]
     },
     "execution_count": 26,
     "metadata": {},
     "output_type": "execute_result"
    }
   ],
   "source": [
    "best_fit_equation('length (minutes)','critics score (percent)')"
   ]
  },
  {
   "cell_type": "markdown",
   "id": "0d39787e",
   "metadata": {},
   "source": [
    "The equation for a line of best fit is \"y = -0.63x + 132.67\"."
   ]
  },
  {
   "cell_type": "code",
   "execution_count": 31,
   "id": "2a9b4eb5",
   "metadata": {},
   "outputs": [
    {
     "data": {
      "text/plain": [
       "37.54415695292552"
      ]
     },
     "execution_count": 31,
     "metadata": {},
     "output_type": "execute_result"
    }
   ],
   "source": [
    "critics_score(150, 'length (minutes)', 'critics score (percent)')"
   ]
  },
  {
   "cell_type": "markdown",
   "id": "59f97ad8",
   "metadata": {},
   "source": [
    "Decently accurate, Rotten Tomatos has an average score of 62, so 38%'s not that far off"
   ]
  },
  {
   "cell_type": "markdown",
   "id": "6232d730",
   "metadata": {},
   "source": [
    "## <span style=\"color:blue\">Problem 3</span>\n",
    "Finally, examine the relationship between `budget` and `curse words used`. Then, answer these questions:\n",
    "1. What kind of relationship is found between `budget` and `curse words used`? How do you know?\n",
    "2. Generalize your Linear Regression function even more. You should be able to call it and have it work on any quantitative data without changing anything about the function definition. Once you are done generalizing your function, call it using `budget` and `curse words used` as arguments. What is the equation of the best fit line? *Reminder, you can only use standard Python and Pandas in your function. You cannot use Numpy or any other Python library.*\n",
    "3. According to your line of best fit, how many curse words would be used during a movie if it had a $5 million dollar budget? How accurate is this prediction?"
   ]
  },
  {
   "cell_type": "code",
   "execution_count": 34,
   "id": "24696089",
   "metadata": {},
   "outputs": [
    {
     "name": "stdout",
     "output_type": "stream",
     "text": [
      "0.035462236713153815\n"
     ]
    }
   ],
   "source": [
    "print(df['budget (millions)'].corr(df['curse words used (rate per hour)']))"
   ]
  },
  {
   "cell_type": "markdown",
   "id": "f0f01b61",
   "metadata": {},
   "source": [
    "There is little tobest_fit_equation('length (minutes)','critics score (percent)') no corrilation between the number of curse words per hour and the budget of a film."
   ]
  },
  {
   "cell_type": "code",
   "execution_count": 37,
   "id": "4fe8e1df",
   "metadata": {},
   "outputs": [
    {
     "data": {
      "text/plain": [
       "(0.00578065095976991, 9.240233598815554)"
      ]
     },
     "execution_count": 37,
     "metadata": {},
     "output_type": "execute_result"
    }
   ],
   "source": [
    "best_fit_equation('budget (millions)','curse words used (rate per hour)')"
   ]
  },
  {
   "cell_type": "markdown",
   "id": "88304bd6",
   "metadata": {},
   "source": [
    "y = .005x + 9.240"
   ]
  },
  {
   "cell_type": "code",
   "execution_count": 39,
   "id": "d9e84323",
   "metadata": {},
   "outputs": [
    {
     "data": {
      "text/plain": [
       "9.269136853614404"
      ]
     },
     "execution_count": 39,
     "metadata": {},
     "output_type": "execute_result"
    }
   ],
   "source": [
    "critics_score(5, 'budget (millions)', 'curse words used (rate per hour)')"
   ]
  },
  {
   "cell_type": "markdown",
   "id": "d7ef9c9d",
   "metadata": {},
   "source": [
    "About 9 curse words per hour. This seems to line up with most data on the average amount of curse words in movies, but it doesn't seem to be related to the budget"
   ]
  },
  {
   "cell_type": "markdown",
   "id": "e3d2ce47",
   "metadata": {},
   "source": [
    "## <span style=\"color:blue\">Problem 4</span>\n",
    "Compare Linear Regression algorithms with someone from a different table. Then, answer these questions:\n",
    "1. How are your algorithms similar? Different?\n",
    "2. Whose algorithm was more accurate for problem 1? Problem 2? Problem 3?\n",
    "3. Why do you think that algorithm was more accurate for one or all of these problems?"
   ]
  },
  {
   "cell_type": "markdown",
   "id": "706dd075",
   "metadata": {},
   "source": [
    "1. I'm doing these questions on my own at home, so it's impossible for me to answer question 4.  If someone wanted to, they could use a library like nunpy to have built in versions of a lot of these functions. My code differs by only using Python and Pandas"
   ]
  },
  {
   "cell_type": "markdown",
   "id": "30d81c88-81cb-4ac2-b75e-d7dce253af19",
   "metadata": {},
   "source": [
    "2. Nunpy would be the most accurate for each question, which is why it's an industry standard"
   ]
  },
  {
   "cell_type": "markdown",
   "id": "d44b9979-0a13-4391-8d28-289821fae606",
   "metadata": {},
   "source": [
    "3. Nunpy's the most accurate because it needs to be used by tons of people each day. It also makes efforts to only be as large as it needs to be for this reason."
   ]
  },
  {
   "cell_type": "code",
   "execution_count": null,
   "id": "49454c2e-676e-487f-a01d-c43fce608df2",
   "metadata": {},
   "outputs": [],
   "source": []
  }
 ],
 "metadata": {
  "kernelspec": {
   "display_name": "Python 3 (ipykernel)",
   "language": "python",
   "name": "python3"
  },
  "language_info": {
   "codemirror_mode": {
    "name": "ipython",
    "version": 3
   },
   "file_extension": ".py",
   "mimetype": "text/x-python",
   "name": "python",
   "nbconvert_exporter": "python",
   "pygments_lexer": "ipython3",
   "version": "3.12.4"
  }
 },
 "nbformat": 4,
 "nbformat_minor": 5
}
