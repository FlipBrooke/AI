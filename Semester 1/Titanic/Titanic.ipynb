{
 "cells": [
  {
   "cell_type": "code",
   "execution_count": 2,
   "id": "edc7d289",
   "metadata": {},
   "outputs": [],
   "source": [
    "import pandas as pd\n",
    "import seaborn as sns"
   ]
  },
  {
   "cell_type": "code",
   "execution_count": 3,
   "id": "dba81860",
   "metadata": {},
   "outputs": [],
   "source": [
    "df = pd.read_csv('titanic.csv')"
   ]
  },
  {
   "cell_type": "code",
   "execution_count": 4,
   "id": "97e58902",
   "metadata": {},
   "outputs": [
    {
     "data": {
      "text/plain": [
       "['PassengerId',\n",
       " 'Survived',\n",
       " 'Pclass',\n",
       " 'Name',\n",
       " 'Sex',\n",
       " 'Age',\n",
       " 'SibSp',\n",
       " 'Parch',\n",
       " 'Ticket',\n",
       " 'Fare',\n",
       " 'Cabin',\n",
       " 'Embarked']"
      ]
     },
     "execution_count": 4,
     "metadata": {},
     "output_type": "execute_result"
    }
   ],
   "source": [
    "list(df.columns)"
   ]
  },
  {
   "cell_type": "code",
   "execution_count": 5,
   "id": "6df4459f",
   "metadata": {},
   "outputs": [
    {
     "data": {
      "text/plain": [
       "PassengerId                                13\n",
       "Survived                                    0\n",
       "Pclass                                      3\n",
       "Name           Saundercock, Mr. William Henry\n",
       "Sex                                      male\n",
       "Age                                      20.0\n",
       "SibSp                                       0\n",
       "Parch                                       0\n",
       "Ticket                              A/5. 2151\n",
       "Fare                                     8.05\n",
       "Cabin                                     NaN\n",
       "Embarked                                    S\n",
       "Name: 12, dtype: object"
      ]
     },
     "execution_count": 5,
     "metadata": {},
     "output_type": "execute_result"
    }
   ],
   "source": [
    "df.loc[12]"
   ]
  },
  {
   "cell_type": "code",
   "execution_count": 6,
   "id": "9609add7",
   "metadata": {},
   "outputs": [
    {
     "data": {
      "text/plain": [
       "PassengerId                   6\n",
       "Survived                      0\n",
       "Pclass                        3\n",
       "Name           Moran, Mr. James\n",
       "Sex                        male\n",
       "Age                          27\n",
       "SibSp                         0\n",
       "Parch                         0\n",
       "Ticket                   330877\n",
       "Fare                     8.4583\n",
       "Cabin                       NaN\n",
       "Embarked                      Q\n",
       "Name: 5, dtype: object"
      ]
     },
     "execution_count": 6,
     "metadata": {},
     "output_type": "execute_result"
    }
   ],
   "source": [
    "df.loc[5, 'Age'] = '27'\n",
    "df.loc[5]"
   ]
  },
  {
   "cell_type": "code",
   "execution_count": 7,
   "id": "796f778b",
   "metadata": {},
   "outputs": [
    {
     "data": {
      "text/plain": [
       "576"
      ]
     },
     "execution_count": 7,
     "metadata": {},
     "output_type": "execute_result"
    }
   ],
   "source": [
    "(pd.to_numeric(df[\"Age\"]) > 18).sum()"
   ]
  },
  {
   "cell_type": "code",
   "execution_count": 8,
   "id": "f183f0ca",
   "metadata": {},
   "outputs": [
    {
     "data": {
      "text/plain": [
       "64.75869809203144"
      ]
     },
     "execution_count": 8,
     "metadata": {},
     "output_type": "execute_result"
    }
   ],
   "source": [
    "((df[\"Sex\"] == 'male').sum())/len(df)*100\n",
    "\n"
   ]
  },
  {
   "cell_type": "code",
   "execution_count": 9,
   "id": "6ba8b811",
   "metadata": {},
   "outputs": [
    {
     "data": {
      "text/html": [
       "<div>\n",
       "<style scoped>\n",
       "    .dataframe tbody tr th:only-of-type {\n",
       "        vertical-align: middle;\n",
       "    }\n",
       "\n",
       "    .dataframe tbody tr th {\n",
       "        vertical-align: top;\n",
       "    }\n",
       "\n",
       "    .dataframe thead th {\n",
       "        text-align: right;\n",
       "    }\n",
       "</style>\n",
       "<table border=\"1\" class=\"dataframe\">\n",
       "  <thead>\n",
       "    <tr style=\"text-align: right;\">\n",
       "      <th></th>\n",
       "      <th>Class</th>\n",
       "      <th>Number of Passengers</th>\n",
       "    </tr>\n",
       "  </thead>\n",
       "  <tbody>\n",
       "    <tr>\n",
       "      <th>0</th>\n",
       "      <td>1</td>\n",
       "      <td>216</td>\n",
       "    </tr>\n",
       "    <tr>\n",
       "      <th>1</th>\n",
       "      <td>2</td>\n",
       "      <td>184</td>\n",
       "    </tr>\n",
       "    <tr>\n",
       "      <th>2</th>\n",
       "      <td>3</td>\n",
       "      <td>491</td>\n",
       "    </tr>\n",
       "  </tbody>\n",
       "</table>\n",
       "</div>"
      ],
      "text/plain": [
       "   Class  Number of Passengers\n",
       "0      1                   216\n",
       "1      2                   184\n",
       "2      3                   491"
      ]
     },
     "execution_count": 9,
     "metadata": {},
     "output_type": "execute_result"
    }
   ],
   "source": [
    "df['Pclass'].value_counts().sort_index().reset_index(name='Number of Passengers').rename(columns={'index': 'Class'})"
   ]
  },
  {
   "cell_type": "code",
   "execution_count": 10,
   "id": "a8a9a0f0",
   "metadata": {},
   "outputs": [
    {
     "data": {
      "text/html": [
       "<div>\n",
       "<style scoped>\n",
       "    .dataframe tbody tr th:only-of-type {\n",
       "        vertical-align: middle;\n",
       "    }\n",
       "\n",
       "    .dataframe tbody tr th {\n",
       "        vertical-align: top;\n",
       "    }\n",
       "\n",
       "    .dataframe thead th {\n",
       "        text-align: right;\n",
       "    }\n",
       "</style>\n",
       "<table border=\"1\" class=\"dataframe\">\n",
       "  <thead>\n",
       "    <tr style=\"text-align: right;\">\n",
       "      <th></th>\n",
       "      <th>Embarked</th>\n",
       "      <th>Percentage of Passengers</th>\n",
       "    </tr>\n",
       "  </thead>\n",
       "  <tbody>\n",
       "    <tr>\n",
       "      <th>0</th>\n",
       "      <td>S</td>\n",
       "      <td>72.440945</td>\n",
       "    </tr>\n",
       "    <tr>\n",
       "      <th>1</th>\n",
       "      <td>C</td>\n",
       "      <td>18.897638</td>\n",
       "    </tr>\n",
       "    <tr>\n",
       "      <th>2</th>\n",
       "      <td>Q</td>\n",
       "      <td>8.661417</td>\n",
       "    </tr>\n",
       "  </tbody>\n",
       "</table>\n",
       "</div>"
      ],
      "text/plain": [
       "  Embarked  Percentage of Passengers\n",
       "0        S                 72.440945\n",
       "1        C                 18.897638\n",
       "2        Q                  8.661417"
      ]
     },
     "execution_count": 10,
     "metadata": {},
     "output_type": "execute_result"
    }
   ],
   "source": [
    "(df['Embarked'].value_counts(normalize=True) * 100).reset_index().rename(columns={'index': 'Embarked', 'Embarked': 'Percentage of Passengers'})"
   ]
  },
  {
   "cell_type": "code",
   "execution_count": 11,
   "id": "6c7b72d4",
   "metadata": {},
   "outputs": [
    {
     "data": {
      "text/html": [
       "<div>\n",
       "<style scoped>\n",
       "    .dataframe tbody tr th:only-of-type {\n",
       "        vertical-align: middle;\n",
       "    }\n",
       "\n",
       "    .dataframe tbody tr th {\n",
       "        vertical-align: top;\n",
       "    }\n",
       "\n",
       "    .dataframe thead th {\n",
       "        text-align: right;\n",
       "    }\n",
       "</style>\n",
       "<table border=\"1\" class=\"dataframe\">\n",
       "  <thead>\n",
       "    <tr style=\"text-align: right;\">\n",
       "      <th></th>\n",
       "      <th>PassengerId</th>\n",
       "      <th>Survived</th>\n",
       "      <th>Pclass</th>\n",
       "      <th>Name</th>\n",
       "      <th>Sex</th>\n",
       "      <th>Age</th>\n",
       "      <th>SibSp</th>\n",
       "      <th>Parch</th>\n",
       "      <th>Ticket</th>\n",
       "      <th>Fare</th>\n",
       "      <th>Cabin</th>\n",
       "      <th>Embarked</th>\n",
       "    </tr>\n",
       "  </thead>\n",
       "  <tbody>\n",
       "    <tr>\n",
       "      <th>4</th>\n",
       "      <td>5</td>\n",
       "      <td>0</td>\n",
       "      <td>3</td>\n",
       "      <td>Allen, Mr. William Henry</td>\n",
       "      <td>male</td>\n",
       "      <td>35.0</td>\n",
       "      <td>0</td>\n",
       "      <td>0</td>\n",
       "      <td>373450</td>\n",
       "      <td>8.05</td>\n",
       "      <td>NaN</td>\n",
       "      <td>S</td>\n",
       "    </tr>\n",
       "  </tbody>\n",
       "</table>\n",
       "</div>"
      ],
      "text/plain": [
       "   PassengerId  Survived  Pclass                      Name   Sex   Age  SibSp  \\\n",
       "4            5         0       3  Allen, Mr. William Henry  male  35.0      0   \n",
       "\n",
       "   Parch  Ticket  Fare Cabin Embarked  \n",
       "4      0  373450  8.05   NaN        S  "
      ]
     },
     "execution_count": 11,
     "metadata": {},
     "output_type": "execute_result"
    }
   ],
   "source": [
    "df[df['PassengerId'] == 5]"
   ]
  },
  {
   "cell_type": "code",
   "execution_count": 12,
   "id": "d5dfd26b",
   "metadata": {},
   "outputs": [
    {
     "data": {
      "text/html": [
       "<div>\n",
       "<style scoped>\n",
       "    .dataframe tbody tr th:only-of-type {\n",
       "        vertical-align: middle;\n",
       "    }\n",
       "\n",
       "    .dataframe tbody tr th {\n",
       "        vertical-align: top;\n",
       "    }\n",
       "\n",
       "    .dataframe thead th {\n",
       "        text-align: right;\n",
       "    }\n",
       "</style>\n",
       "<table border=\"1\" class=\"dataframe\">\n",
       "  <thead>\n",
       "    <tr style=\"text-align: right;\">\n",
       "      <th></th>\n",
       "      <th>PassengerId</th>\n",
       "      <th>Survived</th>\n",
       "      <th>Pclass</th>\n",
       "      <th>Name</th>\n",
       "      <th>Sex</th>\n",
       "      <th>Age</th>\n",
       "      <th>SibSp</th>\n",
       "      <th>Parch</th>\n",
       "      <th>Ticket</th>\n",
       "      <th>Fare</th>\n",
       "      <th>Cabin</th>\n",
       "      <th>Embarked</th>\n",
       "    </tr>\n",
       "  </thead>\n",
       "  <tbody>\n",
       "    <tr>\n",
       "      <th>706</th>\n",
       "      <td>707</td>\n",
       "      <td>1</td>\n",
       "      <td>2</td>\n",
       "      <td>Kelly, Mrs. Florence \"Fannie\"</td>\n",
       "      <td>female</td>\n",
       "      <td>45.0</td>\n",
       "      <td>0</td>\n",
       "      <td>0</td>\n",
       "      <td>223596</td>\n",
       "      <td>13.5</td>\n",
       "      <td>NaN</td>\n",
       "      <td>S</td>\n",
       "    </tr>\n",
       "  </tbody>\n",
       "</table>\n",
       "</div>"
      ],
      "text/plain": [
       "     PassengerId  Survived  Pclass                           Name     Sex  \\\n",
       "706          707         1       2  Kelly, Mrs. Florence \"Fannie\"  female   \n",
       "\n",
       "      Age  SibSp  Parch  Ticket  Fare Cabin Embarked  \n",
       "706  45.0      0      0  223596  13.5   NaN        S  "
      ]
     },
     "execution_count": 12,
     "metadata": {},
     "output_type": "execute_result"
    }
   ],
   "source": [
    "df[df['Name'].str.contains('Fannie')]"
   ]
  },
  {
   "cell_type": "code",
   "execution_count": 13,
   "id": "16f1ca4c",
   "metadata": {},
   "outputs": [
    {
     "data": {
      "text/html": [
       "<div>\n",
       "<style scoped>\n",
       "    .dataframe tbody tr th:only-of-type {\n",
       "        vertical-align: middle;\n",
       "    }\n",
       "\n",
       "    .dataframe tbody tr th {\n",
       "        vertical-align: top;\n",
       "    }\n",
       "\n",
       "    .dataframe thead th {\n",
       "        text-align: right;\n",
       "    }\n",
       "</style>\n",
       "<table border=\"1\" class=\"dataframe\">\n",
       "  <thead>\n",
       "    <tr style=\"text-align: right;\">\n",
       "      <th></th>\n",
       "      <th>Male</th>\n",
       "      <th>Female</th>\n",
       "    </tr>\n",
       "  </thead>\n",
       "  <tbody>\n",
       "    <tr>\n",
       "      <th>Total</th>\n",
       "      <td>577</td>\n",
       "      <td>314</td>\n",
       "    </tr>\n",
       "    <tr>\n",
       "      <th>Survivors</th>\n",
       "      <td>109</td>\n",
       "      <td>233</td>\n",
       "    </tr>\n",
       "    <tr>\n",
       "      <th>Percent Survived</th>\n",
       "      <td>18</td>\n",
       "      <td>74</td>\n",
       "    </tr>\n",
       "  </tbody>\n",
       "</table>\n",
       "</div>"
      ],
      "text/plain": [
       "                  Male  Female\n",
       "Total              577     314\n",
       "Survivors          109     233\n",
       "Percent Survived    18      74"
      ]
     },
     "execution_count": 13,
     "metadata": {},
     "output_type": "execute_result"
    }
   ],
   "source": [
    "numMale = 0\n",
    "numFemale = 0\n",
    "survivorsMale = 0\n",
    "survivorsFemale = 0\n",
    "for i in range(len(df)):\n",
    "    if df.loc[i, 'Sex'] == 'male':\n",
    "        numMale += 1\n",
    "        if df.loc[i,'Survived'] == 1:\n",
    "            survivorsMale += 1\n",
    "    else:\n",
    "        numFemale += 1\n",
    "        if df.loc[i, 'Survived'] == 1:\n",
    "            survivorsFemale += 1\n",
    "pd.DataFrame({'Male': [numMale, survivorsMale,int(survivorsMale/numMale*100)], 'Female': [numFemale, survivorsFemale,int(survivorsFemale/numFemale*100)]}, index=['Total', 'Survivors', 'Percent Survived'])"
   ]
  },
  {
   "cell_type": "code",
   "execution_count": 14,
   "id": "1a940703",
   "metadata": {},
   "outputs": [
    {
     "data": {
      "text/html": [
       "<div>\n",
       "<style scoped>\n",
       "    .dataframe tbody tr th:only-of-type {\n",
       "        vertical-align: middle;\n",
       "    }\n",
       "\n",
       "    .dataframe tbody tr th {\n",
       "        vertical-align: top;\n",
       "    }\n",
       "\n",
       "    .dataframe thead th {\n",
       "        text-align: right;\n",
       "    }\n",
       "</style>\n",
       "<table border=\"1\" class=\"dataframe\">\n",
       "  <thead>\n",
       "    <tr style=\"text-align: right;\">\n",
       "      <th></th>\n",
       "      <th>Children</th>\n",
       "      <th>Teen</th>\n",
       "      <th>Young Adults</th>\n",
       "      <th>Adults</th>\n",
       "      <th>Elderly</th>\n",
       "      <th>Total</th>\n",
       "    </tr>\n",
       "  </thead>\n",
       "  <tbody>\n",
       "    <tr>\n",
       "      <th>Total</th>\n",
       "      <td>69</td>\n",
       "      <td>95</td>\n",
       "      <td>334</td>\n",
       "      <td>209</td>\n",
       "      <td>8</td>\n",
       "      <td>715</td>\n",
       "    </tr>\n",
       "    <tr>\n",
       "      <th>Survivors</th>\n",
       "      <td>40</td>\n",
       "      <td>39</td>\n",
       "      <td>128</td>\n",
       "      <td>82</td>\n",
       "      <td>1</td>\n",
       "      <td>290</td>\n",
       "    </tr>\n",
       "    <tr>\n",
       "      <th>Percent Survived</th>\n",
       "      <td>57</td>\n",
       "      <td>41</td>\n",
       "      <td>38</td>\n",
       "      <td>39</td>\n",
       "      <td>12</td>\n",
       "      <td>40</td>\n",
       "    </tr>\n",
       "    <tr>\n",
       "      <th>Percent Died</th>\n",
       "      <td>43</td>\n",
       "      <td>59</td>\n",
       "      <td>62</td>\n",
       "      <td>61</td>\n",
       "      <td>88</td>\n",
       "      <td>60</td>\n",
       "    </tr>\n",
       "  </tbody>\n",
       "</table>\n",
       "</div>"
      ],
      "text/plain": [
       "                  Children  Teen  Young Adults  Adults  Elderly  Total\n",
       "Total                   69    95           334     209        8    715\n",
       "Survivors               40    39           128      82        1    290\n",
       "Percent Survived        57    41            38      39       12     40\n",
       "Percent Died            43    59            62      61       88     60"
      ]
     },
     "execution_count": 14,
     "metadata": {},
     "output_type": "execute_result"
    }
   ],
   "source": [
    "numChild = 0\n",
    "numTeen = 0\n",
    "numYA = 0\n",
    "numAdult = 0\n",
    "numElder = 0\n",
    "surChild = 0\n",
    "surTeen = 0\n",
    "surYA = 0\n",
    "surAdult = 0\n",
    "surElder = 0\n",
    "for i in range(len(df)):\n",
    "    \n",
    "    if pd.isna(df.loc[i, 'Age']):\n",
    "        continue\n",
    "    \n",
    "    age = int(df.loc[i, 'Age'])\n",
    "    survived = df.loc[i, 'Survived']\n",
    "    \n",
    "    if age <= 12:\n",
    "        numChild += 1\n",
    "        if survived == 1:\n",
    "            surChild += 1\n",
    "    elif age <= 19:\n",
    "        numTeen += 1\n",
    "        if survived == 1:\n",
    "            surTeen += 1\n",
    "    elif age <= 35:\n",
    "        numYA += 1\n",
    "        if survived == 1:\n",
    "            surYA += 1\n",
    "    elif age <= 65:\n",
    "        numAdult += 1\n",
    "        if survived == 1:\n",
    "            surAdult += 1\n",
    "    else:\n",
    "        numElder += 1\n",
    "        if survived == 1:\n",
    "            surElder += 1\n",
    "\n",
    "pd.DataFrame(\n",
    "    {\n",
    "        \"Children\": [numChild, surChild, int(surChild / numChild * 100), 100-int(surChild / numChild * 100) ],\n",
    "        \"Teen\": [numTeen, surTeen, int(surTeen / numTeen * 100), 100-int(surTeen / numTeen * 100)],\n",
    "        \"Young Adults\": [numYA, surYA, int(surYA / numYA * 100), 100-int(surYA / numYA * 100)],\n",
    "        \"Adults\": [numAdult, surAdult, int(surAdult / numAdult * 100), 100-int(surAdult / numAdult * 100)],\n",
    "        \"Elderly\": [numElder, surElder, int(surElder / numElder * 100), 100-int(surElder / numElder * 100)],\n",
    "        \"Total\": [\n",
    "            numChild + numTeen + numYA + numAdult + numElder,\n",
    "            surChild + surTeen + surYA + surAdult + surElder,\n",
    "            int(\n",
    "                (surChild + surTeen + surYA + surAdult + surElder)\n",
    "                / (numChild + numTeen + numYA + numAdult + numElder) * 100\n",
    "            ) if (numChild + numTeen + numYA + numAdult + numElder) > 0 else 0,\n",
    "            100 - int(\n",
    "                (surChild + surTeen + surYA + surAdult + surElder)\n",
    "                / (numChild + numTeen + numYA + numAdult + numElder) * 100\n",
    "            ) if (numChild + numTeen + numYA + numAdult + numElder) > 0 else 0\n",
    "        ]\n",
    "    },\n",
    "    index=[\"Total\", \"Survivors\", \"Percent Survived\", \"Percent Died\"]\n",
    ")\n"
   ]
  },
  {
   "cell_type": "code",
   "execution_count": 15,
   "id": "ec244397",
   "metadata": {},
   "outputs": [
    {
     "data": {
      "text/html": [
       "<div>\n",
       "<style scoped>\n",
       "    .dataframe tbody tr th:only-of-type {\n",
       "        vertical-align: middle;\n",
       "    }\n",
       "\n",
       "    .dataframe tbody tr th {\n",
       "        vertical-align: top;\n",
       "    }\n",
       "\n",
       "    .dataframe thead th {\n",
       "        text-align: right;\n",
       "    }\n",
       "</style>\n",
       "<table border=\"1\" class=\"dataframe\">\n",
       "  <thead>\n",
       "    <tr style=\"text-align: right;\">\n",
       "      <th></th>\n",
       "      <th>C</th>\n",
       "      <th>S</th>\n",
       "      <th>Q</th>\n",
       "    </tr>\n",
       "  </thead>\n",
       "  <tbody>\n",
       "    <tr>\n",
       "      <th>Total</th>\n",
       "      <td>168.000000</td>\n",
       "      <td>644.000000</td>\n",
       "      <td>77.000000</td>\n",
       "    </tr>\n",
       "    <tr>\n",
       "      <th>Survivors</th>\n",
       "      <td>93.000000</td>\n",
       "      <td>217.000000</td>\n",
       "      <td>30.000000</td>\n",
       "    </tr>\n",
       "    <tr>\n",
       "      <th>Percent Survived</th>\n",
       "      <td>55.357143</td>\n",
       "      <td>33.695652</td>\n",
       "      <td>38.961039</td>\n",
       "    </tr>\n",
       "    <tr>\n",
       "      <th>Percent Died</th>\n",
       "      <td>44.642857</td>\n",
       "      <td>66.304348</td>\n",
       "      <td>61.038961</td>\n",
       "    </tr>\n",
       "  </tbody>\n",
       "</table>\n",
       "</div>"
      ],
      "text/plain": [
       "                           C           S          Q\n",
       "Total             168.000000  644.000000  77.000000\n",
       "Survivors          93.000000  217.000000  30.000000\n",
       "Percent Survived   55.357143   33.695652  38.961039\n",
       "Percent Died       44.642857   66.304348  61.038961"
      ]
     },
     "execution_count": 15,
     "metadata": {},
     "output_type": "execute_result"
    }
   ],
   "source": [
    "numC = 0\n",
    "surC = 0\n",
    "numS = 0\n",
    "surS = 0\n",
    "numQ = 0\n",
    "surQ = 0\n",
    "for i in range(len(df)):\n",
    "    \n",
    "    if pd.isna(df.loc[i, 'Embarked']):\n",
    "        continue\n",
    "    \n",
    "    if df.loc[i, 'Embarked'] == 'C':\n",
    "        numC += 1\n",
    "        if df.loc[i, 'Survived'] == 1:\n",
    "            surC += 1\n",
    "    elif df.loc[i, 'Embarked'] == 'S':\n",
    "        numS += 1\n",
    "        if df.loc[i, 'Survived'] == 1:\n",
    "                surS += 1\n",
    "    elif df.loc[i, 'Embarked'] == 'Q':\n",
    "        numQ += 1\n",
    "        if df.loc[i, 'Survived'] == 1:\n",
    "                surQ += 1\n",
    "\n",
    "pd.DataFrame(\n",
    "    {\n",
    "        \"C\": [numC,surC,surC/numC*100,(1-surC/numC)*100],\n",
    "        \"S\": [numS,surS,surS/numS*100,(1-surS/numS)*100],\n",
    "        \"Q\": [numQ,surQ,surQ/numQ*100,(1-surQ/numQ)*100],        \n",
    "    },\n",
    "    index=[\"Total\", \"Survivors\", \"Percent Survived\", \"Percent Died\"]\n",
    ")\n"
   ]
  },
  {
   "cell_type": "code",
   "execution_count": 16,
   "id": "7e389240",
   "metadata": {},
   "outputs": [
    {
     "data": {
      "text/plain": [
       "<AxesSubplot:xlabel='Ages', ylabel='Count'>"
      ]
     },
     "execution_count": 16,
     "metadata": {},
     "output_type": "execute_result"
    },
    {
     "data": {
      "image/png": "[encoded data removed]",
      "text/plain": [
       "<Figure size 640x480 with 1 Axes>"
      ]
     },
     "metadata": {},
     "output_type": "display_data"
    }
   ],
   "source": [
    "dfE = pd.read_csv(\"estonia.csv\")\n",
    "ageGroups = {\"Ages\":[\"Child\",\"Adults\"], \"Count\":[0, 0]}\n",
    "for person in dfE[\"Age\"]:\n",
    "    if person < 18:\n",
    "        ageGroups[\"Count\"][0] += 1\n",
    "    else:\n",
    "        ageGroups[\"Count\"][1] += 1\n",
    "ageDf = pd.DataFrame(ageGroups)\n",
    "sns.barplot(x = \"Ages\", y = \"Count\", data=ageDf)"
   ]
  },
  {
   "cell_type": "code",
   "execution_count": 17,
   "id": "8be4c349",
   "metadata": {},
   "outputs": [
    {
     "data": {
      "text/plain": [
       "<AxesSubplot:xlabel='Age Group', ylabel='value'>"
      ]
     },
     "execution_count": 17,
     "metadata": {},
     "output_type": "execute_result"
    },
    {
     "data": {
      "image/png": "[encoded data removed]",
      "text/plain": [
       "<Figure size 640x480 with 1 Axes>"
      ]
     },
     "metadata": {},
     "output_type": "display_data"
    }
   ],
   "source": [
    "df = pd.read_csv(\"estonia.csv\")\n",
    "\n",
    "data = {\n",
    "    'Age Group': ['child', 'adult'],\n",
    "    'Survived': [3, 134],\n",
    "    'Died': [21, 831]\n",
    "}\n",
    "\n",
    "age_survival = pd.DataFrame(data)\n",
    "age_survival = pd.melt(age_survival, id_vars=\"Age Group\")\n",
    "age_survival = age_survival.rename(columns={\"variable\": \"Survival\"})\n",
    "\n",
    "sns.barplot(x=\"Age Group\", y=\"value\", hue=\"Survival\", data=age_survival)"
   ]
  },
  {
   "cell_type": "code",
   "execution_count": 20,
   "id": "b4c003fc",
   "metadata": {},
   "outputs": [
    {
     "name": "stdout",
     "output_type": "stream",
     "text": [
      "Survival   Died  Survived\n",
      "Age Group                \n",
      "adult       831       134\n",
      "child        21         3\n"
     ]
    }
   ],
   "source": [
    "df = pd.read_csv(\"estonia.csv\")\n",
    "\n",
    "data = {\n",
    "    'Age Group': ['child', 'adult'],\n",
    "    'Survived': [3, 134],\n",
    "    'Died': [21, 831]\n",
    "}\n",
    "\n",
    "age_survival = pd.DataFrame(data)\n",
    "age_survival = pd.melt(age_survival, id_vars=\"Age Group\")\n",
    "age_survival = age_survival.rename(columns={\"variable\": \"Survival\"})\n",
    "\n",
    "contingency_table = age_survival.pivot_table(index='Age Group', columns='Survival', values='value', aggfunc='sum')\n",
    "print(contingency_table)\n"
   ]
  },
  {
   "cell_type": "code",
   "execution_count": null,
   "id": "12312df7",
   "metadata": {},
   "outputs": [],
   "source": []
  }
 ],
 "metadata": {
  "kernelspec": {
   "display_name": "Python 3 (ipykernel)",
   "language": "python",
   "name": "python3"
  },
  "language_info": {
   "codemirror_mode": {
    "name": "ipython",
    "version": 3
   },
   "file_extension": ".py",
   "mimetype": "text/x-python",
   "name": "python",
   "nbconvert_exporter": "python",
   "pygments_lexer": "ipython3",
   "version": "3.9.13"
  }
 },
 "nbformat": 4,
 "nbformat_minor": 5
}
