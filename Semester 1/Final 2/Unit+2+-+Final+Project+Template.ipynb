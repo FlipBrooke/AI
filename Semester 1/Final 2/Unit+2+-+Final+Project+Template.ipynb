{
 "cells": [
  {
   "cell_type": "markdown",
   "id": "d9e5fdfd",
   "metadata": {},
   "source": [
    "# Choose a Data Set\n",
    "Use data gathered from one of the following APIs: \n",
    "- [TV Series Endpoints from TMDB (you cannot use any of the Movie endpoints!)](https://developer.themoviedb.org/reference/tv-series-airing-today-list)\n",
    "- [Open Weather](https://openweathermap.org/api)\n",
    "- [NASA API](https://api.nasa.gov/)\n",
    "- [API Football](https://www.api-football.com/documentation-v3)\n",
    "- [RAWG Video Games](https://rawg.io/apidocs)\n",
    "\n",
    "**OR** \n",
    "\n",
    "Pick two or more datasets from one of the following folders: \n",
    "- [Olympic Games 2024](https://drive.google.com/drive/folders/1AqsNDn1HjdGBpj6CuxoGrog-Dg6Y_ecO?usp=sharing)\n",
    "- [Diabetes Indicators](https://drive.google.com/drive/folders/1lXwQOk3oMVZRIDB_DuD8IhMh7rjERsFH?usp=drive_link)\n",
    "- [Amazon Sales](https://drive.google.com/drive/folders/1VYUZ0vspKZQHgmbhe1qt-mjeeqVJJ58r?usp=drive_link)\n",
    "- [NBA](https://drive.google.com/drive/folders/1tBGqAJTpXRtmETAjSNyba_kRWGR4JKHt?usp=drive_link)\n",
    "- [Recipes](https://drive.google.com/drive/folders/18ybwQLoDTHF8EFfNtx9SxKco9Y4m9Z2I?usp=drive_link)\n"
   ]
  },
  {
   "cell_type": "markdown",
   "id": "5dfb48c3",
   "metadata": {},
   "source": [
    "# My Question\n",
    "### Write your question here."
   ]
  },
  {
   "cell_type": "markdown",
   "id": "aad12cc0",
   "metadata": {},
   "source": [
    "# My Answer"
   ]
  },
  {
   "cell_type": "code",
   "execution_count": 5,
   "id": "9ed534e1",
   "metadata": {},
   "outputs": [],
   "source": []
  },
  {
   "cell_type": "markdown",
   "id": "9bc5e800",
   "metadata": {},
   "source": [
    "***Describe analysis here.***"
   ]
  },
  {
   "cell_type": "code",
   "execution_count": 6,
   "id": "e63eb409",
   "metadata": {},
   "outputs": [],
   "source": []
  },
  {
   "cell_type": "markdown",
   "id": "3ccb8a9f",
   "metadata": {},
   "source": [
    "***Describe analysis here.***"
   ]
  },
  {
   "cell_type": "code",
   "execution_count": null,
   "id": "cf91401f",
   "metadata": {},
   "outputs": [],
   "source": []
  }
 ],
 "metadata": {
  "kernelspec": {
   "display_name": "Python 3 (ipykernel)",
   "language": "python",
   "name": "python3"
  },
  "language_info": {
   "codemirror_mode": {
    "name": "ipython",
    "version": 3
   },
   "file_extension": ".py",
   "mimetype": "text/x-python",
   "name": "python",
   "nbconvert_exporter": "python",
   "pygments_lexer": "ipython3",
   "version": "3.9.13"
  }
 },
 "nbformat": 4,
 "nbformat_minor": 5
}
