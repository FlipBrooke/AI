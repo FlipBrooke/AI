{
 "cells": [
  {
   "cell_type": "code",
   "execution_count": 3,
   "id": "e3427a8c",
   "metadata": {},
   "outputs": [
    {
     "ename": "SyntaxError",
     "evalue": "invalid syntax (2190599316.py, line 1)",
     "output_type": "error",
     "traceback": [
      "\u001b[1;36m  File \u001b[1;32m\"C:\\Users\\jnygren\\AppData\\Local\\Temp\\ipykernel_24324\\2190599316.py\"\u001b[1;36m, line \u001b[1;32m1\u001b[0m\n\u001b[1;33m    $conda update --all\u001b[0m\n\u001b[1;37m    ^\u001b[0m\n\u001b[1;31mSyntaxError\u001b[0m\u001b[1;31m:\u001b[0m invalid syntax\n"
     ]
    }
   ],
   "source": [
    "$conda update --all\n",
    "\n",
    "\n",
    "import pandas as pd\n",
    "from sklearn.model_selection import train_test_split\n",
    "from keras.preprocessing.text import Tokenizer\n",
    "from keras.preprocessing.sequence import pad_sequences\n",
    "\n",
    "df = pd.read_csv(\"diffusion_db_unaltered.csv\")\n",
    "\n",
    "prompts = df[\"prompt\"].astype(str).tolist()\n",
    "labels = df[\"prompt_nsfw\"].astype(int).tolist()\n",
    "\n",
    "train_prompts, test_prompts, train_labels, test_labels = train_test_split(\n",
    "    prompts, labels, test_size=0.2, random_state=42\n",
    ")\n",
    "\n",
    "tokenizer = Tokenizer()\n",
    "tokenizer.fit_on_texts(train_prompts)\n",
    "\n",
    "train_sequences = tokenizer.texts_to_sequences(train_prompts)\n",
    "test_sequences = tokenizer.texts_to_sequences(test_prompts)\n",
    "\n",
    "max_length = max(len(seq) for seq in train_sequences)\n",
    "train_padded = pad_sequences(train_sequences, maxlen=max_length, padding='post')\n",
    "test_padded = pad_sequences(test_sequences, maxlen=max_length, padding='post')\n",
    "\n",
    "print(f\"Vocabulary size: {len(tokenizer.word_index) + 1}\")\n",
    "print(f\"Training data shape: {train_padded.shape}\")\n",
    "print(f\"Testing data shape: {test_padded.shape}\")\n"
   ]
  },
  {
   "cell_type": "code",
   "execution_count": null,
   "id": "3de4b98f",
   "metadata": {},
   "outputs": [],
   "source": []
  }
 ],
 "metadata": {
  "kernelspec": {
   "display_name": "Python 3 (ipykernel)",
   "language": "python",
   "name": "python3"
  },
  "language_info": {
   "codemirror_mode": {
    "name": "ipython",
    "version": 3
   },
   "file_extension": ".py",
   "mimetype": "text/x-python",
   "name": "python",
   "nbconvert_exporter": "python",
   "pygments_lexer": "ipython3",
   "version": "3.9.13"
  }
 },
 "nbformat": 4,
 "nbformat_minor": 5
}
