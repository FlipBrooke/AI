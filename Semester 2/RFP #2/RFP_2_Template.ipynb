{
 "cells": [
  {
   "cell_type": "markdown",
   "id": "1b940825",
   "metadata": {},
   "source": [
    "# RFP: Targeted Taco Bell Ads\n",
    "\n",
    "## Project Overview\n",
    "You are invited to submit a proposal that answers the following question:\n",
    "\n",
    "### What ad will you create and why?\n",
    "\n",
    "*Please submit your proposal by **1/30/25 at 11:59 PM**.*"
   ]
  },
  {
   "cell_type": "markdown",
   "id": "968a85f0",
   "metadata": {},
   "source": [
    "## Required Proposal Components\n",
    "\n",
    "### 1. Data Description\n",
    "In the code cell below, read in the data you will need to train and test your model. Call `info()` once you have read the data into a dataframe. Consider using some or all of the following sources:\n",
    "- [Customer Demographics](https://drive.google.com/file/d/1HK42Oa3bhhRDWR1y1wVBDAQ2tbNwg1gS/view?usp=sharing)\n",
    "- [Ad Response Data](https://drive.google.com/file/d/1cuLqXPNKhP66m5BP9BAlci2G--Vopt-Z/view?usp=sharing)\n",
    "\n",
    "*Note, a level 5 dataset combines these two data sets.*"
   ]
  },
  {
   "cell_type": "code",
   "execution_count": 1,
   "id": "08c1688a",
   "metadata": {},
   "outputs": [
    {
     "name": "stdout",
     "output_type": "stream",
     "text": [
      "Customer Data Info:\n",
      "<class 'pandas.core.frame.DataFrame'>\n",
      "RangeIndex: 10000 entries, 0 to 9999\n",
      "Data columns (total 7 columns):\n",
      " #   Column       Non-Null Count  Dtype  \n",
      "---  ------       --------------  -----  \n",
      " 0   customer_id  10000 non-null  int64  \n",
      " 1   state        10000 non-null  object \n",
      " 2   sex          10000 non-null  object \n",
      " 3   age          10000 non-null  float64\n",
      " 4   occupation   10000 non-null  object \n",
      " 5   family_size  10000 non-null  int64  \n",
      " 6   income       10000 non-null  int64  \n",
      "dtypes: float64(1), int64(3), object(3)\n",
      "memory usage: 547.0+ KB\n",
      "\n",
      "Ad Data Info:\n",
      "<class 'pandas.core.frame.DataFrame'>\n",
      "RangeIndex: 10000 entries, 0 to 9999\n",
      "Data columns (total 6 columns):\n",
      " #   Column            Non-Null Count  Dtype \n",
      "---  ------            --------------  ----- \n",
      " 0   customer_id       10000 non-null  int64 \n",
      " 1   ad_type           10000 non-null  object\n",
      " 2   ad_medium         10000 non-null  object\n",
      " 3   ad_response       10000 non-null  bool  \n",
      " 4   items_purchased   10000 non-null  object\n",
      " 5   drinks_purchased  10000 non-null  object\n",
      "dtypes: bool(1), int64(1), object(4)\n",
      "memory usage: 400.5+ KB\n",
      "\n",
      "Customer Data Columns:\n",
      "Index(['customer_id', 'state', 'sex', 'age', 'occupation', 'family_size',\n",
      "       'income'],\n",
      "      dtype='object')\n",
      "\n",
      "Ad Data Columns:\n",
      "Index(['customer_id', 'ad_type', 'ad_medium', 'ad_response', 'items_purchased',\n",
      "       'drinks_purchased'],\n",
      "      dtype='object')\n",
      "\n",
      "Combined Data Info:\n",
      "<class 'pandas.core.frame.DataFrame'>\n",
      "Int64Index: 10000 entries, 0 to 9999\n",
      "Data columns (total 12 columns):\n",
      " #   Column            Non-Null Count  Dtype  \n",
      "---  ------            --------------  -----  \n",
      " 0   customer_id       10000 non-null  int64  \n",
      " 1   state             10000 non-null  object \n",
      " 2   sex               10000 non-null  object \n",
      " 3   age               10000 non-null  float64\n",
      " 4   occupation        10000 non-null  object \n",
      " 5   family_size       10000 non-null  int64  \n",
      " 6   income            10000 non-null  int64  \n",
      " 7   ad_type           10000 non-null  object \n",
      " 8   ad_medium         10000 non-null  object \n",
      " 9   ad_response       10000 non-null  bool   \n",
      " 10  items_purchased   10000 non-null  object \n",
      " 11  drinks_purchased  10000 non-null  object \n",
      "dtypes: bool(1), float64(1), int64(3), object(7)\n",
      "memory usage: 947.3+ KB\n",
      "\n",
      "Combined Data (First 5 rows):\n",
      "   customer_id state sex   age    occupation  family_size  income  \\\n",
      "0         9167    MO   F  42.0  Food Service            1   40343   \n",
      "1          531    MI   F  36.0        Retail            4   41730   \n",
      "2         2265    CA   F  25.0            IT            0   84024   \n",
      "3         7550    VA   M  38.0  Food Service            2   38990   \n",
      "4         5334    MT   M  35.0  Food Service            1   33400   \n",
      "\n",
      "                           ad_type           ad_medium  ad_response  \\\n",
      "0                     DISCOUNT-20%  Instagram photo ad         True   \n",
      "1                     DISCOUNT-10%  Instagram photo ad        False   \n",
      "2                     DISCOUNT-20%   15 sec YouTube ad        False   \n",
      "3  BOGO - Garlic Steak Nacho Fries   15 sec YouTube ad         True   \n",
      "4                     DISCOUNT-20%   15 sec YouTube ad        False   \n",
      "\n",
      "                                     items_purchased  \\\n",
      "0            ['mexican pizza', 'chicken quesadilla']   \n",
      "1  ['steak garlic nacho fries', 'crunchy taco', '...   \n",
      "2                             ['chicken quesadilla']   \n",
      "3  ['steak garlic nacho fries', 'steak garlic nac...   \n",
      "4    ['spicy potato soft taco', 'nachos bellgrande']   \n",
      "\n",
      "                                    drinks_purchased  \n",
      "0                  ['mountain dew', 'mug root beer']  \n",
      "1  ['mug root beer', 'iced tea', 'starry', 'iced ...  \n",
      "2                                  ['mug root beer']  \n",
      "3              ['pepsi', 'diet pepsi', 'diet pepsi']  \n",
      "4                         ['gatorade', 'baja blast']  \n"
     ]
    }
   ],
   "source": [
    "import pandas as pd\n",
    "\n",
    "# Read each CSV into a separate dataframe\n",
    "customer_data = pd.read_csv('customer_data.csv')\n",
    "ad_data = pd.read_csv('ad_data.csv')\n",
    "\n",
    "# Merge the dataframes based on 'customer_id'\n",
    "combined_data = pd.merge(customer_data, ad_data, on='customer_id', how='inner')  # 'inner' ensures only matching customer_id rows are kept\n",
    "\n",
    "# Show information about each dataframe\n",
    "print(\"Customer Data Info:\")\n",
    "customer_data.info()\n",
    "print(\"\\nAd Data Info:\")\n",
    "ad_data.info()\n",
    "\n",
    "# Show the columns of each dataframe\n",
    "print(\"\\nCustomer Data Columns:\")\n",
    "print(customer_data.columns)\n",
    "\n",
    "print(\"\\nAd Data Columns:\")\n",
    "print(ad_data.columns)\n",
    "\n",
    "# Display combined data info\n",
    "print(\"\\nCombined Data Info:\")\n",
    "combined_data.info()\n",
    "\n",
    "# Optionally, display the first few rows of the merged dataframe to inspect\n",
    "print(\"\\nCombined Data (First 5 rows):\")\n",
    "print(combined_data.head())\n"
   ]
  },
  {
   "cell_type": "markdown",
   "id": "880ff05f",
   "metadata": {},
   "source": [
    "### 2. Training Your Model\n",
    "In the cell seen below, write the code you need to train a K-means clustering model. Make sure you describe the center of each cluster found.\n",
    "\n",
    "*Note, level 5 work uses at least 3 features to train a K-means model using only the standard Python library and Pandas. A level 4 uses external libraries like scikit or numpy.*\n",
    "\n",
    "### 3. Testing Your Model\n",
    "In the cell seen below, write the code you need to test your K-means model. Then, interpret your findings.\n",
    "\n",
    "*Note, level 5 testing uses both an elbow plot and a silhouette score to evaluate your model. Level 4 uses one or the other.*"
   ]
  },
  {
   "cell_type": "code",
   "execution_count": null,
   "id": "a87a9144",
   "metadata": {},
   "outputs": [
    {
     "name": "stderr",
     "output_type": "stream",
     "text": [
      "C:\\Users\\jnygren\\AppData\\Local\\Temp\\ipykernel_20232\\3211730116.py:19: FutureWarning: Dropping of nuisance columns in DataFrame reductions (with 'numeric_only=None') is deprecated; in a future version this will raise TypeError.  Select only valid columns before calling the reduction.\n",
      "  features = (features - features.mean()) / features.std()\n",
      "C:\\Users\\jnygren\\AppData\\Local\\Temp\\ipykernel_20232\\3211730116.py:19: FutureWarning: Dropping of nuisance columns in DataFrame reductions (with 'numeric_only=None') is deprecated; in a future version this will raise TypeError.  Select only valid columns before calling the reduction.\n",
      "  features = (features - features.mean()) / features.std()\n",
      "Clustering Iterations: 100%|██████████| 100/100 [09:12<00:00,  5.53s/it]\n"
     ]
    },
    {
     "name": "stdout",
     "output_type": "stream",
     "text": [
      "Final cluster centers:\n",
      "Cluster 1 center: {'age': -1.6853185513809876e-16, 'income': 2.978117752405751e-16, 'ad_response': nan, 'items_purchased': -1.245503700175732e-16, 'drinks_purchased': nan}\n",
      "Cluster 2 center: {'age': 0.9947637080526885, 'income': -1.60012760643502, 'ad_response': nan, 'items_purchased': -1.136673031067735, 'drinks_purchased': nan}\n",
      "Cluster 3 center: {'age': 0.9947637080526885, 'income': -0.6480673895997607, 'ad_response': nan, 'items_purchased': -0.7290501700649321, 'drinks_purchased': nan}\n",
      "Cluster 4 center: {'age': -1.0051633286435089, 'income': -0.8211692472061715, 'ad_response': nan, 'items_purchased': -0.7120008932999871, 'drinks_purchased': nan}\n",
      "Cluster 5 center: {'age': 0.9947637080526885, 'income': -0.21531274558373376, 'ad_response': nan, 'items_purchased': 0.6900042457050298, 'drinks_purchased': nan}\n"
     ]
    },
    {
     "name": "stderr",
     "output_type": "stream",
     "text": [
      "Clustering Iterations: 100%|██████████| 100/100 [02:15<00:00,  1.36s/it]\n",
      "Clustering Iterations: 100%|██████████| 100/100 [03:59<00:00,  2.40s/it]\n",
      "Clustering Iterations: 100%|██████████| 100/100 [05:44<00:00,  3.44s/it]\n",
      "Clustering Iterations: 100%|██████████| 100/100 [07:31<00:00,  4.52s/it]\n",
      "Clustering Iterations: 100%|██████████| 100/100 [09:12<00:00,  5.52s/it]\n",
      "Clustering Iterations: 100%|██████████| 100/100 [10:57<00:00,  6.58s/it]\n",
      "Clustering Iterations: 100%|██████████| 100/100 [12:41<00:00,  7.61s/it]\n",
      "Clustering Iterations: 100%|██████████| 100/100 [14:24<00:00,  8.64s/it]\n",
      "Clustering Iterations: 100%|██████████| 100/100 [16:10<00:00,  9.71s/it]\n",
      "Clustering Iterations: 100%|██████████| 100/100 [17:51<00:00, 10.71s/it]\n"
     ]
    },
    {
     "data": {
      "image/png": "[encoded data removed]",
      "text/plain": [
       "<Figure size 800x500 with 1 Axes>"
      ]
     },
     "metadata": {},
     "output_type": "display_data"
    },
    {
     "name": "stderr",
     "output_type": "stream",
     "text": [
      "Clustering Iterations:  30%|███       | 30/100 [06:26<09:37,  8.24s/it]  "
     ]
    }
   ],
   "source": [
    "import pandas as pd\n",
    "import random\n",
    "import matplotlib.pyplot as plt\n",
    "from tqdm import tqdm\n",
    "from sklearn.metrics import silhouette_score\n",
    "\n",
    "# Read in the customer_data and ad_data\n",
    "customer_data = pd.read_csv('customer_data.csv')\n",
    "ad_data = pd.read_csv('ad_data.csv')\n",
    "\n",
    "# Merge customer_data and ad_data based on customer_id\n",
    "combined_data = pd.merge(customer_data, ad_data, on='customer_id', how='inner')\n",
    "\n",
    "# Select relevant numerical features for clustering\n",
    "columns = ['age', 'income', 'ad_response', 'items_purchased', 'drinks_purchased']\n",
    "features = combined_data[columns].dropna()\n",
    "\n",
    "# Standardize the data (mean centering)\n",
    "features = (features - features.mean()) / features.std()\n",
    "\n",
    "# K-means clustering implementation\n",
    "def kmeans_clustering(data, k, max_iters=100):\n",
    "    centroids = data.sample(n=k, random_state=42).values.tolist()\n",
    "    \n",
    "    for _ in tqdm(range(max_iters), desc=\"Clustering Iterations\"):\n",
    "        clusters = {i: [] for i in range(k)}\n",
    "        \n",
    "        for _, row in data.iterrows():\n",
    "            distances = [sum((row - centroid) ** 2) ** 0.5 for centroid in centroids]\n",
    "            cluster_index = distances.index(min(distances))\n",
    "            clusters[cluster_index].append(row.values)\n",
    "        \n",
    "        new_centroids = []\n",
    "        for i in range(k):\n",
    "            if clusters[i]:\n",
    "                new_centroids.append(pd.DataFrame(clusters[i]).mean().tolist())\n",
    "            else:\n",
    "                new_centroids.append(data.sample(n=1).values[0])\n",
    "        \n",
    "        if centroids == new_centroids:\n",
    "            break\n",
    "        centroids = new_centroids\n",
    "    \n",
    "    return centroids, clusters\n",
    "\n",
    "# Elbow plot evaluation\n",
    "def elbow_method(data, max_k=10):\n",
    "    distortions = []\n",
    "    for k in range(1, max_k + 1):\n",
    "        centroids, clusters = kmeans_clustering(data, k)\n",
    "        \n",
    "        distortion = 0\n",
    "        for centroid, cluster in zip(centroids, clusters.values()):\n",
    "            if cluster:  # Ensure cluster is not empty\n",
    "                cluster_df = pd.DataFrame(cluster)\n",
    "                centroid_df = pd.DataFrame([centroid] * len(cluster_df), columns=cluster_df.columns)\n",
    "                distortion += ((cluster_df - centroid_df) ** 2).sum().sum()\n",
    "        \n",
    "        distortions.append(distortion)\n",
    "    \n",
    "    plt.figure(figsize=(8, 5))\n",
    "    plt.plot(range(1, max_k + 1), distortions, marker='o')\n",
    "    plt.xlabel('Number of Clusters')\n",
    "    plt.ylabel('Distortion')\n",
    "    plt.title('Elbow Method')\n",
    "    plt.show()\n",
    "\n",
    "# Silhouette score evaluation\n",
    "def silhouette_evaluation(data, k):\n",
    "    centroids, clusters = kmeans_clustering(data, k)\n",
    "    labels = []\n",
    "    clustered_data = []\n",
    "    for cluster_idx, points in clusters.items():\n",
    "        for point in points:\n",
    "            labels.append(cluster_idx)\n",
    "            clustered_data.append(point)\n",
    "    \n",
    "    if len(set(labels)) > 1:  # Silhouette score requires at least 2 clusters\n",
    "        score = silhouette_score(pd.DataFrame(clustered_data), labels)\n",
    "        print(f'Silhouette Score for k={k}: {score}')\n",
    "    else:\n",
    "        print(f'Silhouette Score for k={k} is undefined (only one cluster).')\n",
    "\n",
    "# Run clustering and evaluation\n",
    "k = 5  # Define number of clusters\n",
    "centroids, clusters = kmeans_clustering(features, k)\n",
    "\n",
    "print(\"Final cluster centers:\")  \n",
    "for i, center in enumerate(centroids):  \n",
    "    print(f\"Cluster {i + 1} center: {dict(zip(columns, center))}\")  \n",
    "\n",
    "elbow_method(features)\n",
    "silhouette_evaluation(features, k)\n"
   ]
  },
  {
   "cell_type": "markdown",
   "id": "0fe52f67",
   "metadata": {},
   "source": [
    "Cluster Two:\n",
    "\n",
    "Predominately female\n",
    "Students\n",
    "\n",
    "Variety of ages\n",
    "\n",
    "Respond well to youtube ads\n",
    "\n",
    "prefered medium is video\n",
    "\n",
    "familes of 1-2\n",
    "\n",
    "Low income\n",
    "\n",
    "Enjoys drinks\n",
    "\n",
    "item to sell: Baja Blast!"
   ]
  },
  {
   "cell_type": "markdown",
   "id": "cfb2b903",
   "metadata": {},
   "source": []
  },
  {
   "cell_type": "code",
   "execution_count": null,
   "id": "24f8b990",
   "metadata": {},
   "outputs": [],
   "source": []
  },
  {
   "cell_type": "code",
   "execution_count": null,
   "id": "b6bcf92e",
   "metadata": {},
   "outputs": [],
   "source": []
  },
  {
   "cell_type": "markdown",
   "id": "32a8c369",
   "metadata": {},
   "source": [
    "#### Interpret your elbow plot and/or silhouette score here."
   ]
  },
  {
   "cell_type": "markdown",
   "id": "343eb3f7",
   "metadata": {},
   "source": [
    "### 4. Final Answer\n",
    "\n",
    "In the first cell seen below, describe the cluster you have chosen to target with your ad, making sure to describe the type of ad they were the most likely to respond to. Then, use software of your choosing to create the ad you will need to target this cluster. You do not need to create an ad for both the nacho fries and the Baja Blast. You can focus on one if that's what your cluster cares about most.\n",
    "\n",
    "In the second cell seen below, include a link to your ad.\n",
    "\n",
    "*Note, a level 5 ad uses the medium (static image or video) the cluster most likely responded to.* "
   ]
  },
  {
   "cell_type": "markdown",
   "id": "25533722",
   "metadata": {},
   "source": [
    "#### Describe the cluster you are targeting here."
   ]
  },
  {
   "cell_type": "markdown",
   "id": "e29adde2",
   "metadata": {},
   "source": [
    "#### Link your ad here."
   ]
  },
  {
   "cell_type": "code",
   "execution_count": 3,
   "id": "64ae46db",
   "metadata": {},
   "outputs": [
    {
     "name": "stdout",
     "output_type": "stream",
     "text": [
      "   culmen_length_mm  culmen_depth_mm  flipper_length_mm  body_mass_g\n",
      "0              39.1             18.7              181.0       3750.0\n",
      "1              39.5             17.4              186.0       3800.0\n",
      "2              40.3             18.0              195.0       3250.0\n",
      "4              36.7             19.3              193.0       3450.0\n",
      "5              39.3             20.6              190.0       3650.0\n",
      "3\n"
     ]
    }
   ],
   "source": []
  },
  {
   "cell_type": "code",
   "execution_count": null,
   "id": "081208d0",
   "metadata": {},
   "outputs": [],
   "source": []
  }
 ],
 "metadata": {
  "kernelspec": {
   "display_name": "Python 3 (ipykernel)",
   "language": "python",
   "name": "python3"
  },
  "language_info": {
   "codemirror_mode": {
    "name": "ipython",
    "version": 3
   },
   "file_extension": ".py",
   "mimetype": "text/x-python",
   "name": "python",
   "nbconvert_exporter": "python",
   "pygments_lexer": "ipython3",
   "version": "3.9.13"
  }
 },
 "nbformat": 4,
 "nbformat_minor": 5
}
